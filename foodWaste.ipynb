{
  "cells": [
    {
      "cell_type": "code",
      "execution_count": 2,
      "metadata": {
        "id": "vbOfAyirX2hG"
      },
      "outputs": [],
      "source": [
        "import pandas as pd\n",
        "import numpy as np\n",
        "import matplotlib.pyplot as plt\n",
        "\n",
        "from sklearn.pipeline import Pipeline\n",
        "from sklearn.impute import SimpleImputer\n",
        "from sklearn.preprocessing import StandardScaler\n",
        "from sklearn.model_selection import train_test_split\n",
        "from sklearn.preprocessing import OneHotEncoder\n",
        "from sklearn.preprocessing import OrdinalEncoder\n",
        "from sklearn.compose import ColumnTransformer\n",
        "\n",
        "from sklearn.linear_model import LinearRegression\n",
        "from sklearn.ensemble import RandomForestRegressor\n",
        "from sklearn.svm import SVR\n",
        "\n",
        "from sklearn.model_selection import GridSearchCV\n",
        "from sklearn.metrics import mean_squared_error, mean_absolute_error"
      ]
    },
    {
      "cell_type": "code",
      "execution_count": 3,
      "metadata": {
        "colab": {
          "base_uri": "https://localhost:8080/",
          "height": 424
        },
        "id": "Z2lMm2aRYEWv",
        "outputId": "be20b69c-8f75-4fe2-d802-a8985923ec3e"
      },
      "outputs": [
        {
          "output_type": "execute_result",
          "data": {
            "text/plain": [
              "       ID        date  meals_served  kitchen_staff  temperature_C  \\\n",
              "0       0  2022-12-19           196             13      27.887273   \n",
              "1       1  2023-11-21           244             15      10.317872   \n",
              "2       4  2022-02-01           148             16      27.714300   \n",
              "3       5  2023-03-19           157             19      19.173902   \n",
              "4       6  2022-07-18           297             10      26.375233   \n",
              "..    ...         ...           ...            ...            ...   \n",
              "906  1044  2022-03-29           395             18      17.354199   \n",
              "907  1045  2022-11-27           483             11      24.912137   \n",
              "908  1046  2023-04-12           243             11      28.870945   \n",
              "909  1048  2022-02-14           406             10      19.061638   \n",
              "910  1049  2024-05-10           350              6      23.708015   \n",
              "\n",
              "     humidity_percent  day_of_week  special_event  past_waste_kg  \\\n",
              "0           45.362854            0              0       7.740587   \n",
              "1           64.430475            1              0      42.311779   \n",
              "2           69.046113            1              0      41.184305   \n",
              "3           46.292823            6              0      41.543492   \n",
              "4           79.741064            0              0      26.525097   \n",
              "..                ...          ...            ...            ...   \n",
              "906         45.138435            1              0      40.550668   \n",
              "907         59.485091            6              0      36.470276   \n",
              "908         70.508404            2              0      19.767203   \n",
              "909         55.286642            0              0      28.560361   \n",
              "910         51.351286            4              0      46.786860   \n",
              "\n",
              "    staff_experience waste_category  food_waste_kg  \n",
              "0       intermediate          dairy      28.946465  \n",
              "1                NaN           MeAt      51.549053  \n",
              "2           Beginner           MeAt      53.008323  \n",
              "3           Beginner           MeAt      48.621527  \n",
              "4       Intermediate           MEAT      44.156984  \n",
              "..               ...            ...            ...  \n",
              "906     Intermediate         GRAINS      50.369152  \n",
              "907     intermediate          dairy      43.070121  \n",
              "908     Intermediate           MeAt      29.632560  \n",
              "909           EXPERT           MEAT      44.615759  \n",
              "910     intermediate     Vegetables      57.066481  \n",
              "\n",
              "[911 rows x 12 columns]"
            ],
            "text/html": [
              "\n",
              "  <div id=\"df-ed18185a-13e4-4d6e-bd28-fdd05837589b\" class=\"colab-df-container\">\n",
              "    <div>\n",
              "<style scoped>\n",
              "    .dataframe tbody tr th:only-of-type {\n",
              "        vertical-align: middle;\n",
              "    }\n",
              "\n",
              "    .dataframe tbody tr th {\n",
              "        vertical-align: top;\n",
              "    }\n",
              "\n",
              "    .dataframe thead th {\n",
              "        text-align: right;\n",
              "    }\n",
              "</style>\n",
              "<table border=\"1\" class=\"dataframe\">\n",
              "  <thead>\n",
              "    <tr style=\"text-align: right;\">\n",
              "      <th></th>\n",
              "      <th>ID</th>\n",
              "      <th>date</th>\n",
              "      <th>meals_served</th>\n",
              "      <th>kitchen_staff</th>\n",
              "      <th>temperature_C</th>\n",
              "      <th>humidity_percent</th>\n",
              "      <th>day_of_week</th>\n",
              "      <th>special_event</th>\n",
              "      <th>past_waste_kg</th>\n",
              "      <th>staff_experience</th>\n",
              "      <th>waste_category</th>\n",
              "      <th>food_waste_kg</th>\n",
              "    </tr>\n",
              "  </thead>\n",
              "  <tbody>\n",
              "    <tr>\n",
              "      <th>0</th>\n",
              "      <td>0</td>\n",
              "      <td>2022-12-19</td>\n",
              "      <td>196</td>\n",
              "      <td>13</td>\n",
              "      <td>27.887273</td>\n",
              "      <td>45.362854</td>\n",
              "      <td>0</td>\n",
              "      <td>0</td>\n",
              "      <td>7.740587</td>\n",
              "      <td>intermediate</td>\n",
              "      <td>dairy</td>\n",
              "      <td>28.946465</td>\n",
              "    </tr>\n",
              "    <tr>\n",
              "      <th>1</th>\n",
              "      <td>1</td>\n",
              "      <td>2023-11-21</td>\n",
              "      <td>244</td>\n",
              "      <td>15</td>\n",
              "      <td>10.317872</td>\n",
              "      <td>64.430475</td>\n",
              "      <td>1</td>\n",
              "      <td>0</td>\n",
              "      <td>42.311779</td>\n",
              "      <td>NaN</td>\n",
              "      <td>MeAt</td>\n",
              "      <td>51.549053</td>\n",
              "    </tr>\n",
              "    <tr>\n",
              "      <th>2</th>\n",
              "      <td>4</td>\n",
              "      <td>2022-02-01</td>\n",
              "      <td>148</td>\n",
              "      <td>16</td>\n",
              "      <td>27.714300</td>\n",
              "      <td>69.046113</td>\n",
              "      <td>1</td>\n",
              "      <td>0</td>\n",
              "      <td>41.184305</td>\n",
              "      <td>Beginner</td>\n",
              "      <td>MeAt</td>\n",
              "      <td>53.008323</td>\n",
              "    </tr>\n",
              "    <tr>\n",
              "      <th>3</th>\n",
              "      <td>5</td>\n",
              "      <td>2023-03-19</td>\n",
              "      <td>157</td>\n",
              "      <td>19</td>\n",
              "      <td>19.173902</td>\n",
              "      <td>46.292823</td>\n",
              "      <td>6</td>\n",
              "      <td>0</td>\n",
              "      <td>41.543492</td>\n",
              "      <td>Beginner</td>\n",
              "      <td>MeAt</td>\n",
              "      <td>48.621527</td>\n",
              "    </tr>\n",
              "    <tr>\n",
              "      <th>4</th>\n",
              "      <td>6</td>\n",
              "      <td>2022-07-18</td>\n",
              "      <td>297</td>\n",
              "      <td>10</td>\n",
              "      <td>26.375233</td>\n",
              "      <td>79.741064</td>\n",
              "      <td>0</td>\n",
              "      <td>0</td>\n",
              "      <td>26.525097</td>\n",
              "      <td>Intermediate</td>\n",
              "      <td>MEAT</td>\n",
              "      <td>44.156984</td>\n",
              "    </tr>\n",
              "    <tr>\n",
              "      <th>...</th>\n",
              "      <td>...</td>\n",
              "      <td>...</td>\n",
              "      <td>...</td>\n",
              "      <td>...</td>\n",
              "      <td>...</td>\n",
              "      <td>...</td>\n",
              "      <td>...</td>\n",
              "      <td>...</td>\n",
              "      <td>...</td>\n",
              "      <td>...</td>\n",
              "      <td>...</td>\n",
              "      <td>...</td>\n",
              "    </tr>\n",
              "    <tr>\n",
              "      <th>906</th>\n",
              "      <td>1044</td>\n",
              "      <td>2022-03-29</td>\n",
              "      <td>395</td>\n",
              "      <td>18</td>\n",
              "      <td>17.354199</td>\n",
              "      <td>45.138435</td>\n",
              "      <td>1</td>\n",
              "      <td>0</td>\n",
              "      <td>40.550668</td>\n",
              "      <td>Intermediate</td>\n",
              "      <td>GRAINS</td>\n",
              "      <td>50.369152</td>\n",
              "    </tr>\n",
              "    <tr>\n",
              "      <th>907</th>\n",
              "      <td>1045</td>\n",
              "      <td>2022-11-27</td>\n",
              "      <td>483</td>\n",
              "      <td>11</td>\n",
              "      <td>24.912137</td>\n",
              "      <td>59.485091</td>\n",
              "      <td>6</td>\n",
              "      <td>0</td>\n",
              "      <td>36.470276</td>\n",
              "      <td>intermediate</td>\n",
              "      <td>dairy</td>\n",
              "      <td>43.070121</td>\n",
              "    </tr>\n",
              "    <tr>\n",
              "      <th>908</th>\n",
              "      <td>1046</td>\n",
              "      <td>2023-04-12</td>\n",
              "      <td>243</td>\n",
              "      <td>11</td>\n",
              "      <td>28.870945</td>\n",
              "      <td>70.508404</td>\n",
              "      <td>2</td>\n",
              "      <td>0</td>\n",
              "      <td>19.767203</td>\n",
              "      <td>Intermediate</td>\n",
              "      <td>MeAt</td>\n",
              "      <td>29.632560</td>\n",
              "    </tr>\n",
              "    <tr>\n",
              "      <th>909</th>\n",
              "      <td>1048</td>\n",
              "      <td>2022-02-14</td>\n",
              "      <td>406</td>\n",
              "      <td>10</td>\n",
              "      <td>19.061638</td>\n",
              "      <td>55.286642</td>\n",
              "      <td>0</td>\n",
              "      <td>0</td>\n",
              "      <td>28.560361</td>\n",
              "      <td>EXPERT</td>\n",
              "      <td>MEAT</td>\n",
              "      <td>44.615759</td>\n",
              "    </tr>\n",
              "    <tr>\n",
              "      <th>910</th>\n",
              "      <td>1049</td>\n",
              "      <td>2024-05-10</td>\n",
              "      <td>350</td>\n",
              "      <td>6</td>\n",
              "      <td>23.708015</td>\n",
              "      <td>51.351286</td>\n",
              "      <td>4</td>\n",
              "      <td>0</td>\n",
              "      <td>46.786860</td>\n",
              "      <td>intermediate</td>\n",
              "      <td>Vegetables</td>\n",
              "      <td>57.066481</td>\n",
              "    </tr>\n",
              "  </tbody>\n",
              "</table>\n",
              "<p>911 rows × 12 columns</p>\n",
              "</div>\n",
              "    <div class=\"colab-df-buttons\">\n",
              "\n",
              "  <div class=\"colab-df-container\">\n",
              "    <button class=\"colab-df-convert\" onclick=\"convertToInteractive('df-ed18185a-13e4-4d6e-bd28-fdd05837589b')\"\n",
              "            title=\"Convert this dataframe to an interactive table.\"\n",
              "            style=\"display:none;\">\n",
              "\n",
              "  <svg xmlns=\"http://www.w3.org/2000/svg\" height=\"24px\" viewBox=\"0 -960 960 960\">\n",
              "    <path d=\"M120-120v-720h720v720H120Zm60-500h600v-160H180v160Zm220 220h160v-160H400v160Zm0 220h160v-160H400v160ZM180-400h160v-160H180v160Zm440 0h160v-160H620v160ZM180-180h160v-160H180v160Zm440 0h160v-160H620v160Z\"/>\n",
              "  </svg>\n",
              "    </button>\n",
              "\n",
              "  <style>\n",
              "    .colab-df-container {\n",
              "      display:flex;\n",
              "      gap: 12px;\n",
              "    }\n",
              "\n",
              "    .colab-df-convert {\n",
              "      background-color: #E8F0FE;\n",
              "      border: none;\n",
              "      border-radius: 50%;\n",
              "      cursor: pointer;\n",
              "      display: none;\n",
              "      fill: #1967D2;\n",
              "      height: 32px;\n",
              "      padding: 0 0 0 0;\n",
              "      width: 32px;\n",
              "    }\n",
              "\n",
              "    .colab-df-convert:hover {\n",
              "      background-color: #E2EBFA;\n",
              "      box-shadow: 0px 1px 2px rgba(60, 64, 67, 0.3), 0px 1px 3px 1px rgba(60, 64, 67, 0.15);\n",
              "      fill: #174EA6;\n",
              "    }\n",
              "\n",
              "    .colab-df-buttons div {\n",
              "      margin-bottom: 4px;\n",
              "    }\n",
              "\n",
              "    [theme=dark] .colab-df-convert {\n",
              "      background-color: #3B4455;\n",
              "      fill: #D2E3FC;\n",
              "    }\n",
              "\n",
              "    [theme=dark] .colab-df-convert:hover {\n",
              "      background-color: #434B5C;\n",
              "      box-shadow: 0px 1px 3px 1px rgba(0, 0, 0, 0.15);\n",
              "      filter: drop-shadow(0px 1px 2px rgba(0, 0, 0, 0.3));\n",
              "      fill: #FFFFFF;\n",
              "    }\n",
              "  </style>\n",
              "\n",
              "    <script>\n",
              "      const buttonEl =\n",
              "        document.querySelector('#df-ed18185a-13e4-4d6e-bd28-fdd05837589b button.colab-df-convert');\n",
              "      buttonEl.style.display =\n",
              "        google.colab.kernel.accessAllowed ? 'block' : 'none';\n",
              "\n",
              "      async function convertToInteractive(key) {\n",
              "        const element = document.querySelector('#df-ed18185a-13e4-4d6e-bd28-fdd05837589b');\n",
              "        const dataTable =\n",
              "          await google.colab.kernel.invokeFunction('convertToInteractive',\n",
              "                                                    [key], {});\n",
              "        if (!dataTable) return;\n",
              "\n",
              "        const docLinkHtml = 'Like what you see? Visit the ' +\n",
              "          '<a target=\"_blank\" href=https://colab.research.google.com/notebooks/data_table.ipynb>data table notebook</a>'\n",
              "          + ' to learn more about interactive tables.';\n",
              "        element.innerHTML = '';\n",
              "        dataTable['output_type'] = 'display_data';\n",
              "        await google.colab.output.renderOutput(dataTable, element);\n",
              "        const docLink = document.createElement('div');\n",
              "        docLink.innerHTML = docLinkHtml;\n",
              "        element.appendChild(docLink);\n",
              "      }\n",
              "    </script>\n",
              "  </div>\n",
              "\n",
              "\n",
              "    <div id=\"df-313e2e45-b8da-4d0f-b453-a9b81bf76912\">\n",
              "      <button class=\"colab-df-quickchart\" onclick=\"quickchart('df-313e2e45-b8da-4d0f-b453-a9b81bf76912')\"\n",
              "                title=\"Suggest charts\"\n",
              "                style=\"display:none;\">\n",
              "\n",
              "<svg xmlns=\"http://www.w3.org/2000/svg\" height=\"24px\"viewBox=\"0 0 24 24\"\n",
              "     width=\"24px\">\n",
              "    <g>\n",
              "        <path d=\"M19 3H5c-1.1 0-2 .9-2 2v14c0 1.1.9 2 2 2h14c1.1 0 2-.9 2-2V5c0-1.1-.9-2-2-2zM9 17H7v-7h2v7zm4 0h-2V7h2v10zm4 0h-2v-4h2v4z\"/>\n",
              "    </g>\n",
              "</svg>\n",
              "      </button>\n",
              "\n",
              "<style>\n",
              "  .colab-df-quickchart {\n",
              "      --bg-color: #E8F0FE;\n",
              "      --fill-color: #1967D2;\n",
              "      --hover-bg-color: #E2EBFA;\n",
              "      --hover-fill-color: #174EA6;\n",
              "      --disabled-fill-color: #AAA;\n",
              "      --disabled-bg-color: #DDD;\n",
              "  }\n",
              "\n",
              "  [theme=dark] .colab-df-quickchart {\n",
              "      --bg-color: #3B4455;\n",
              "      --fill-color: #D2E3FC;\n",
              "      --hover-bg-color: #434B5C;\n",
              "      --hover-fill-color: #FFFFFF;\n",
              "      --disabled-bg-color: #3B4455;\n",
              "      --disabled-fill-color: #666;\n",
              "  }\n",
              "\n",
              "  .colab-df-quickchart {\n",
              "    background-color: var(--bg-color);\n",
              "    border: none;\n",
              "    border-radius: 50%;\n",
              "    cursor: pointer;\n",
              "    display: none;\n",
              "    fill: var(--fill-color);\n",
              "    height: 32px;\n",
              "    padding: 0;\n",
              "    width: 32px;\n",
              "  }\n",
              "\n",
              "  .colab-df-quickchart:hover {\n",
              "    background-color: var(--hover-bg-color);\n",
              "    box-shadow: 0 1px 2px rgba(60, 64, 67, 0.3), 0 1px 3px 1px rgba(60, 64, 67, 0.15);\n",
              "    fill: var(--button-hover-fill-color);\n",
              "  }\n",
              "\n",
              "  .colab-df-quickchart-complete:disabled,\n",
              "  .colab-df-quickchart-complete:disabled:hover {\n",
              "    background-color: var(--disabled-bg-color);\n",
              "    fill: var(--disabled-fill-color);\n",
              "    box-shadow: none;\n",
              "  }\n",
              "\n",
              "  .colab-df-spinner {\n",
              "    border: 2px solid var(--fill-color);\n",
              "    border-color: transparent;\n",
              "    border-bottom-color: var(--fill-color);\n",
              "    animation:\n",
              "      spin 1s steps(1) infinite;\n",
              "  }\n",
              "\n",
              "  @keyframes spin {\n",
              "    0% {\n",
              "      border-color: transparent;\n",
              "      border-bottom-color: var(--fill-color);\n",
              "      border-left-color: var(--fill-color);\n",
              "    }\n",
              "    20% {\n",
              "      border-color: transparent;\n",
              "      border-left-color: var(--fill-color);\n",
              "      border-top-color: var(--fill-color);\n",
              "    }\n",
              "    30% {\n",
              "      border-color: transparent;\n",
              "      border-left-color: var(--fill-color);\n",
              "      border-top-color: var(--fill-color);\n",
              "      border-right-color: var(--fill-color);\n",
              "    }\n",
              "    40% {\n",
              "      border-color: transparent;\n",
              "      border-right-color: var(--fill-color);\n",
              "      border-top-color: var(--fill-color);\n",
              "    }\n",
              "    60% {\n",
              "      border-color: transparent;\n",
              "      border-right-color: var(--fill-color);\n",
              "    }\n",
              "    80% {\n",
              "      border-color: transparent;\n",
              "      border-right-color: var(--fill-color);\n",
              "      border-bottom-color: var(--fill-color);\n",
              "    }\n",
              "    90% {\n",
              "      border-color: transparent;\n",
              "      border-bottom-color: var(--fill-color);\n",
              "    }\n",
              "  }\n",
              "</style>\n",
              "\n",
              "      <script>\n",
              "        async function quickchart(key) {\n",
              "          const quickchartButtonEl =\n",
              "            document.querySelector('#' + key + ' button');\n",
              "          quickchartButtonEl.disabled = true;  // To prevent multiple clicks.\n",
              "          quickchartButtonEl.classList.add('colab-df-spinner');\n",
              "          try {\n",
              "            const charts = await google.colab.kernel.invokeFunction(\n",
              "                'suggestCharts', [key], {});\n",
              "          } catch (error) {\n",
              "            console.error('Error during call to suggestCharts:', error);\n",
              "          }\n",
              "          quickchartButtonEl.classList.remove('colab-df-spinner');\n",
              "          quickchartButtonEl.classList.add('colab-df-quickchart-complete');\n",
              "        }\n",
              "        (() => {\n",
              "          let quickchartButtonEl =\n",
              "            document.querySelector('#df-313e2e45-b8da-4d0f-b453-a9b81bf76912 button');\n",
              "          quickchartButtonEl.style.display =\n",
              "            google.colab.kernel.accessAllowed ? 'block' : 'none';\n",
              "        })();\n",
              "      </script>\n",
              "    </div>\n",
              "\n",
              "  <div id=\"id_24ceed05-6ee2-454f-ae87-d1aebb58d7c5\">\n",
              "    <style>\n",
              "      .colab-df-generate {\n",
              "        background-color: #E8F0FE;\n",
              "        border: none;\n",
              "        border-radius: 50%;\n",
              "        cursor: pointer;\n",
              "        display: none;\n",
              "        fill: #1967D2;\n",
              "        height: 32px;\n",
              "        padding: 0 0 0 0;\n",
              "        width: 32px;\n",
              "      }\n",
              "\n",
              "      .colab-df-generate:hover {\n",
              "        background-color: #E2EBFA;\n",
              "        box-shadow: 0px 1px 2px rgba(60, 64, 67, 0.3), 0px 1px 3px 1px rgba(60, 64, 67, 0.15);\n",
              "        fill: #174EA6;\n",
              "      }\n",
              "\n",
              "      [theme=dark] .colab-df-generate {\n",
              "        background-color: #3B4455;\n",
              "        fill: #D2E3FC;\n",
              "      }\n",
              "\n",
              "      [theme=dark] .colab-df-generate:hover {\n",
              "        background-color: #434B5C;\n",
              "        box-shadow: 0px 1px 3px 1px rgba(0, 0, 0, 0.15);\n",
              "        filter: drop-shadow(0px 1px 2px rgba(0, 0, 0, 0.3));\n",
              "        fill: #FFFFFF;\n",
              "      }\n",
              "    </style>\n",
              "    <button class=\"colab-df-generate\" onclick=\"generateWithVariable('df')\"\n",
              "            title=\"Generate code using this dataframe.\"\n",
              "            style=\"display:none;\">\n",
              "\n",
              "  <svg xmlns=\"http://www.w3.org/2000/svg\" height=\"24px\"viewBox=\"0 0 24 24\"\n",
              "       width=\"24px\">\n",
              "    <path d=\"M7,19H8.4L18.45,9,17,7.55,7,17.6ZM5,21V16.75L18.45,3.32a2,2,0,0,1,2.83,0l1.4,1.43a1.91,1.91,0,0,1,.58,1.4,1.91,1.91,0,0,1-.58,1.4L9.25,21ZM18.45,9,17,7.55Zm-12,3A5.31,5.31,0,0,0,4.9,8.1,5.31,5.31,0,0,0,1,6.5,5.31,5.31,0,0,0,4.9,4.9,5.31,5.31,0,0,0,6.5,1,5.31,5.31,0,0,0,8.1,4.9,5.31,5.31,0,0,0,12,6.5,5.46,5.46,0,0,0,6.5,12Z\"/>\n",
              "  </svg>\n",
              "    </button>\n",
              "    <script>\n",
              "      (() => {\n",
              "      const buttonEl =\n",
              "        document.querySelector('#id_24ceed05-6ee2-454f-ae87-d1aebb58d7c5 button.colab-df-generate');\n",
              "      buttonEl.style.display =\n",
              "        google.colab.kernel.accessAllowed ? 'block' : 'none';\n",
              "\n",
              "      buttonEl.onclick = () => {\n",
              "        google.colab.notebook.generateWithVariable('df');\n",
              "      }\n",
              "      })();\n",
              "    </script>\n",
              "  </div>\n",
              "\n",
              "    </div>\n",
              "  </div>\n"
            ],
            "application/vnd.google.colaboratory.intrinsic+json": {
              "type": "dataframe",
              "variable_name": "df",
              "summary": "{\n  \"name\": \"df\",\n  \"rows\": 911,\n  \"fields\": [\n    {\n      \"column\": \"ID\",\n      \"properties\": {\n        \"dtype\": \"number\",\n        \"std\": 305,\n        \"min\": 0,\n        \"max\": 1049,\n        \"num_unique_values\": 911,\n        \"samples\": [\n          818,\n          881,\n          629\n        ],\n        \"semantic_type\": \"\",\n        \"description\": \"\"\n      }\n    },\n    {\n      \"column\": \"date\",\n      \"properties\": {\n        \"dtype\": \"object\",\n        \"num_unique_values\": 867,\n        \"samples\": [\n          \"2023-12-24\",\n          \"2022-10-13\",\n          \"2024-04-14\"\n        ],\n        \"semantic_type\": \"\",\n        \"description\": \"\"\n      }\n    },\n    {\n      \"column\": \"meals_served\",\n      \"properties\": {\n        \"dtype\": \"number\",\n        \"std\": 502,\n        \"min\": 100,\n        \"max\": 4730,\n        \"num_unique_values\": 373,\n        \"samples\": [\n          2830,\n          174,\n          265\n        ],\n        \"semantic_type\": \"\",\n        \"description\": \"\"\n      }\n    },\n    {\n      \"column\": \"kitchen_staff\",\n      \"properties\": {\n        \"dtype\": \"number\",\n        \"std\": 4,\n        \"min\": 5,\n        \"max\": 19,\n        \"num_unique_values\": 15,\n        \"samples\": [\n          8,\n          11,\n          13\n        ],\n        \"semantic_type\": \"\",\n        \"description\": \"\"\n      }\n    },\n    {\n      \"column\": \"temperature_C\",\n      \"properties\": {\n        \"dtype\": \"number\",\n        \"std\": 8.922389375372326,\n        \"min\": -10.372206511742178,\n        \"max\": 60.0,\n        \"num_unique_values\": 892,\n        \"samples\": [\n          34.70688177500328,\n          30.579350389891506,\n          20.099446908163703\n        ],\n        \"semantic_type\": \"\",\n        \"description\": \"\"\n      }\n    },\n    {\n      \"column\": \"humidity_percent\",\n      \"properties\": {\n        \"dtype\": \"number\",\n        \"std\": 17.33082119443006,\n        \"min\": 30.121111064894038,\n        \"max\": 89.98282824935484,\n        \"num_unique_values\": 867,\n        \"samples\": [\n          31.968577447716505,\n          51.371138827055645,\n          43.603642939797794\n        ],\n        \"semantic_type\": \"\",\n        \"description\": \"\"\n      }\n    },\n    {\n      \"column\": \"day_of_week\",\n      \"properties\": {\n        \"dtype\": \"number\",\n        \"std\": 2,\n        \"min\": 0,\n        \"max\": 6,\n        \"num_unique_values\": 7,\n        \"samples\": [\n          0,\n          1,\n          4\n        ],\n        \"semantic_type\": \"\",\n        \"description\": \"\"\n      }\n    },\n    {\n      \"column\": \"special_event\",\n      \"properties\": {\n        \"dtype\": \"number\",\n        \"std\": 0,\n        \"min\": 0,\n        \"max\": 1,\n        \"num_unique_values\": 2,\n        \"samples\": [\n          1,\n          0\n        ],\n        \"semantic_type\": \"\",\n        \"description\": \"\"\n      }\n    },\n    {\n      \"column\": \"past_waste_kg\",\n      \"properties\": {\n        \"dtype\": \"number\",\n        \"std\": 12.774222512568702,\n        \"min\": 5.0083937676798405,\n        \"max\": 49.803702511766375,\n        \"num_unique_values\": 867,\n        \"samples\": [\n          26.208872355835453,\n          38.28573039933987\n        ],\n        \"semantic_type\": \"\",\n        \"description\": \"\"\n      }\n    },\n    {\n      \"column\": \"staff_experience\",\n      \"properties\": {\n        \"dtype\": \"category\",\n        \"num_unique_values\": 4,\n        \"samples\": [\n          \"Beginner\",\n          \"EXPERT\"\n        ],\n        \"semantic_type\": \"\",\n        \"description\": \"\"\n      }\n    },\n    {\n      \"column\": \"waste_category\",\n      \"properties\": {\n        \"dtype\": \"category\",\n        \"num_unique_values\": 5,\n        \"samples\": [\n          \"MeAt\",\n          \"GRAINS\"\n        ],\n        \"semantic_type\": \"\",\n        \"description\": \"\"\n      }\n    },\n    {\n      \"column\": \"food_waste_kg\",\n      \"properties\": {\n        \"dtype\": \"number\",\n        \"std\": 27.93436623705769,\n        \"min\": 10.819047907328834,\n        \"max\": 274.32878295005906,\n        \"num_unique_values\": 867,\n        \"samples\": [\n          251.5389324680473,\n          40.61710993168761\n        ],\n        \"semantic_type\": \"\",\n        \"description\": \"\"\n      }\n    }\n  ]\n}"
            }
          },
          "metadata": {},
          "execution_count": 3
        }
      ],
      "source": [
        "df = pd.read_csv('train.csv')\n",
        "df"
      ]
    },
    {
      "cell_type": "markdown",
      "metadata": {
        "id": "8HFAFesu140Q"
      },
      "source": [
        "**dropping unnecessary columns**"
      ]
    },
    {
      "cell_type": "code",
      "execution_count": 4,
      "metadata": {
        "colab": {
          "base_uri": "https://localhost:8080/",
          "height": 424
        },
        "id": "9oEaOyLJYKee",
        "outputId": "19f7a2c8-81e6-4130-f7ec-5628a55318fa"
      },
      "outputs": [
        {
          "output_type": "execute_result",
          "data": {
            "text/plain": [
              "     meals_served  kitchen_staff  temperature_C  humidity_percent  \\\n",
              "0             196             13      27.887273         45.362854   \n",
              "1             244             15      10.317872         64.430475   \n",
              "2             148             16      27.714300         69.046113   \n",
              "3             157             19      19.173902         46.292823   \n",
              "4             297             10      26.375233         79.741064   \n",
              "..            ...            ...            ...               ...   \n",
              "906           395             18      17.354199         45.138435   \n",
              "907           483             11      24.912137         59.485091   \n",
              "908           243             11      28.870945         70.508404   \n",
              "909           406             10      19.061638         55.286642   \n",
              "910           350              6      23.708015         51.351286   \n",
              "\n",
              "     day_of_week  special_event  past_waste_kg staff_experience  \\\n",
              "0              0              0       7.740587     intermediate   \n",
              "1              1              0      42.311779              NaN   \n",
              "2              1              0      41.184305         Beginner   \n",
              "3              6              0      41.543492         Beginner   \n",
              "4              0              0      26.525097     Intermediate   \n",
              "..           ...            ...            ...              ...   \n",
              "906            1              0      40.550668     Intermediate   \n",
              "907            6              0      36.470276     intermediate   \n",
              "908            2              0      19.767203     Intermediate   \n",
              "909            0              0      28.560361           EXPERT   \n",
              "910            4              0      46.786860     intermediate   \n",
              "\n",
              "    waste_category  food_waste_kg  \n",
              "0            dairy      28.946465  \n",
              "1             MeAt      51.549053  \n",
              "2             MeAt      53.008323  \n",
              "3             MeAt      48.621527  \n",
              "4             MEAT      44.156984  \n",
              "..             ...            ...  \n",
              "906         GRAINS      50.369152  \n",
              "907          dairy      43.070121  \n",
              "908           MeAt      29.632560  \n",
              "909           MEAT      44.615759  \n",
              "910     Vegetables      57.066481  \n",
              "\n",
              "[911 rows x 10 columns]"
            ],
            "text/html": [
              "\n",
              "  <div id=\"df-ea5ddc12-4469-4f89-a75c-e687d7102148\" class=\"colab-df-container\">\n",
              "    <div>\n",
              "<style scoped>\n",
              "    .dataframe tbody tr th:only-of-type {\n",
              "        vertical-align: middle;\n",
              "    }\n",
              "\n",
              "    .dataframe tbody tr th {\n",
              "        vertical-align: top;\n",
              "    }\n",
              "\n",
              "    .dataframe thead th {\n",
              "        text-align: right;\n",
              "    }\n",
              "</style>\n",
              "<table border=\"1\" class=\"dataframe\">\n",
              "  <thead>\n",
              "    <tr style=\"text-align: right;\">\n",
              "      <th></th>\n",
              "      <th>meals_served</th>\n",
              "      <th>kitchen_staff</th>\n",
              "      <th>temperature_C</th>\n",
              "      <th>humidity_percent</th>\n",
              "      <th>day_of_week</th>\n",
              "      <th>special_event</th>\n",
              "      <th>past_waste_kg</th>\n",
              "      <th>staff_experience</th>\n",
              "      <th>waste_category</th>\n",
              "      <th>food_waste_kg</th>\n",
              "    </tr>\n",
              "  </thead>\n",
              "  <tbody>\n",
              "    <tr>\n",
              "      <th>0</th>\n",
              "      <td>196</td>\n",
              "      <td>13</td>\n",
              "      <td>27.887273</td>\n",
              "      <td>45.362854</td>\n",
              "      <td>0</td>\n",
              "      <td>0</td>\n",
              "      <td>7.740587</td>\n",
              "      <td>intermediate</td>\n",
              "      <td>dairy</td>\n",
              "      <td>28.946465</td>\n",
              "    </tr>\n",
              "    <tr>\n",
              "      <th>1</th>\n",
              "      <td>244</td>\n",
              "      <td>15</td>\n",
              "      <td>10.317872</td>\n",
              "      <td>64.430475</td>\n",
              "      <td>1</td>\n",
              "      <td>0</td>\n",
              "      <td>42.311779</td>\n",
              "      <td>NaN</td>\n",
              "      <td>MeAt</td>\n",
              "      <td>51.549053</td>\n",
              "    </tr>\n",
              "    <tr>\n",
              "      <th>2</th>\n",
              "      <td>148</td>\n",
              "      <td>16</td>\n",
              "      <td>27.714300</td>\n",
              "      <td>69.046113</td>\n",
              "      <td>1</td>\n",
              "      <td>0</td>\n",
              "      <td>41.184305</td>\n",
              "      <td>Beginner</td>\n",
              "      <td>MeAt</td>\n",
              "      <td>53.008323</td>\n",
              "    </tr>\n",
              "    <tr>\n",
              "      <th>3</th>\n",
              "      <td>157</td>\n",
              "      <td>19</td>\n",
              "      <td>19.173902</td>\n",
              "      <td>46.292823</td>\n",
              "      <td>6</td>\n",
              "      <td>0</td>\n",
              "      <td>41.543492</td>\n",
              "      <td>Beginner</td>\n",
              "      <td>MeAt</td>\n",
              "      <td>48.621527</td>\n",
              "    </tr>\n",
              "    <tr>\n",
              "      <th>4</th>\n",
              "      <td>297</td>\n",
              "      <td>10</td>\n",
              "      <td>26.375233</td>\n",
              "      <td>79.741064</td>\n",
              "      <td>0</td>\n",
              "      <td>0</td>\n",
              "      <td>26.525097</td>\n",
              "      <td>Intermediate</td>\n",
              "      <td>MEAT</td>\n",
              "      <td>44.156984</td>\n",
              "    </tr>\n",
              "    <tr>\n",
              "      <th>...</th>\n",
              "      <td>...</td>\n",
              "      <td>...</td>\n",
              "      <td>...</td>\n",
              "      <td>...</td>\n",
              "      <td>...</td>\n",
              "      <td>...</td>\n",
              "      <td>...</td>\n",
              "      <td>...</td>\n",
              "      <td>...</td>\n",
              "      <td>...</td>\n",
              "    </tr>\n",
              "    <tr>\n",
              "      <th>906</th>\n",
              "      <td>395</td>\n",
              "      <td>18</td>\n",
              "      <td>17.354199</td>\n",
              "      <td>45.138435</td>\n",
              "      <td>1</td>\n",
              "      <td>0</td>\n",
              "      <td>40.550668</td>\n",
              "      <td>Intermediate</td>\n",
              "      <td>GRAINS</td>\n",
              "      <td>50.369152</td>\n",
              "    </tr>\n",
              "    <tr>\n",
              "      <th>907</th>\n",
              "      <td>483</td>\n",
              "      <td>11</td>\n",
              "      <td>24.912137</td>\n",
              "      <td>59.485091</td>\n",
              "      <td>6</td>\n",
              "      <td>0</td>\n",
              "      <td>36.470276</td>\n",
              "      <td>intermediate</td>\n",
              "      <td>dairy</td>\n",
              "      <td>43.070121</td>\n",
              "    </tr>\n",
              "    <tr>\n",
              "      <th>908</th>\n",
              "      <td>243</td>\n",
              "      <td>11</td>\n",
              "      <td>28.870945</td>\n",
              "      <td>70.508404</td>\n",
              "      <td>2</td>\n",
              "      <td>0</td>\n",
              "      <td>19.767203</td>\n",
              "      <td>Intermediate</td>\n",
              "      <td>MeAt</td>\n",
              "      <td>29.632560</td>\n",
              "    </tr>\n",
              "    <tr>\n",
              "      <th>909</th>\n",
              "      <td>406</td>\n",
              "      <td>10</td>\n",
              "      <td>19.061638</td>\n",
              "      <td>55.286642</td>\n",
              "      <td>0</td>\n",
              "      <td>0</td>\n",
              "      <td>28.560361</td>\n",
              "      <td>EXPERT</td>\n",
              "      <td>MEAT</td>\n",
              "      <td>44.615759</td>\n",
              "    </tr>\n",
              "    <tr>\n",
              "      <th>910</th>\n",
              "      <td>350</td>\n",
              "      <td>6</td>\n",
              "      <td>23.708015</td>\n",
              "      <td>51.351286</td>\n",
              "      <td>4</td>\n",
              "      <td>0</td>\n",
              "      <td>46.786860</td>\n",
              "      <td>intermediate</td>\n",
              "      <td>Vegetables</td>\n",
              "      <td>57.066481</td>\n",
              "    </tr>\n",
              "  </tbody>\n",
              "</table>\n",
              "<p>911 rows × 10 columns</p>\n",
              "</div>\n",
              "    <div class=\"colab-df-buttons\">\n",
              "\n",
              "  <div class=\"colab-df-container\">\n",
              "    <button class=\"colab-df-convert\" onclick=\"convertToInteractive('df-ea5ddc12-4469-4f89-a75c-e687d7102148')\"\n",
              "            title=\"Convert this dataframe to an interactive table.\"\n",
              "            style=\"display:none;\">\n",
              "\n",
              "  <svg xmlns=\"http://www.w3.org/2000/svg\" height=\"24px\" viewBox=\"0 -960 960 960\">\n",
              "    <path d=\"M120-120v-720h720v720H120Zm60-500h600v-160H180v160Zm220 220h160v-160H400v160Zm0 220h160v-160H400v160ZM180-400h160v-160H180v160Zm440 0h160v-160H620v160ZM180-180h160v-160H180v160Zm440 0h160v-160H620v160Z\"/>\n",
              "  </svg>\n",
              "    </button>\n",
              "\n",
              "  <style>\n",
              "    .colab-df-container {\n",
              "      display:flex;\n",
              "      gap: 12px;\n",
              "    }\n",
              "\n",
              "    .colab-df-convert {\n",
              "      background-color: #E8F0FE;\n",
              "      border: none;\n",
              "      border-radius: 50%;\n",
              "      cursor: pointer;\n",
              "      display: none;\n",
              "      fill: #1967D2;\n",
              "      height: 32px;\n",
              "      padding: 0 0 0 0;\n",
              "      width: 32px;\n",
              "    }\n",
              "\n",
              "    .colab-df-convert:hover {\n",
              "      background-color: #E2EBFA;\n",
              "      box-shadow: 0px 1px 2px rgba(60, 64, 67, 0.3), 0px 1px 3px 1px rgba(60, 64, 67, 0.15);\n",
              "      fill: #174EA6;\n",
              "    }\n",
              "\n",
              "    .colab-df-buttons div {\n",
              "      margin-bottom: 4px;\n",
              "    }\n",
              "\n",
              "    [theme=dark] .colab-df-convert {\n",
              "      background-color: #3B4455;\n",
              "      fill: #D2E3FC;\n",
              "    }\n",
              "\n",
              "    [theme=dark] .colab-df-convert:hover {\n",
              "      background-color: #434B5C;\n",
              "      box-shadow: 0px 1px 3px 1px rgba(0, 0, 0, 0.15);\n",
              "      filter: drop-shadow(0px 1px 2px rgba(0, 0, 0, 0.3));\n",
              "      fill: #FFFFFF;\n",
              "    }\n",
              "  </style>\n",
              "\n",
              "    <script>\n",
              "      const buttonEl =\n",
              "        document.querySelector('#df-ea5ddc12-4469-4f89-a75c-e687d7102148 button.colab-df-convert');\n",
              "      buttonEl.style.display =\n",
              "        google.colab.kernel.accessAllowed ? 'block' : 'none';\n",
              "\n",
              "      async function convertToInteractive(key) {\n",
              "        const element = document.querySelector('#df-ea5ddc12-4469-4f89-a75c-e687d7102148');\n",
              "        const dataTable =\n",
              "          await google.colab.kernel.invokeFunction('convertToInteractive',\n",
              "                                                    [key], {});\n",
              "        if (!dataTable) return;\n",
              "\n",
              "        const docLinkHtml = 'Like what you see? Visit the ' +\n",
              "          '<a target=\"_blank\" href=https://colab.research.google.com/notebooks/data_table.ipynb>data table notebook</a>'\n",
              "          + ' to learn more about interactive tables.';\n",
              "        element.innerHTML = '';\n",
              "        dataTable['output_type'] = 'display_data';\n",
              "        await google.colab.output.renderOutput(dataTable, element);\n",
              "        const docLink = document.createElement('div');\n",
              "        docLink.innerHTML = docLinkHtml;\n",
              "        element.appendChild(docLink);\n",
              "      }\n",
              "    </script>\n",
              "  </div>\n",
              "\n",
              "\n",
              "    <div id=\"df-a715c432-43c7-47b1-8b70-2d38893c3baa\">\n",
              "      <button class=\"colab-df-quickchart\" onclick=\"quickchart('df-a715c432-43c7-47b1-8b70-2d38893c3baa')\"\n",
              "                title=\"Suggest charts\"\n",
              "                style=\"display:none;\">\n",
              "\n",
              "<svg xmlns=\"http://www.w3.org/2000/svg\" height=\"24px\"viewBox=\"0 0 24 24\"\n",
              "     width=\"24px\">\n",
              "    <g>\n",
              "        <path d=\"M19 3H5c-1.1 0-2 .9-2 2v14c0 1.1.9 2 2 2h14c1.1 0 2-.9 2-2V5c0-1.1-.9-2-2-2zM9 17H7v-7h2v7zm4 0h-2V7h2v10zm4 0h-2v-4h2v4z\"/>\n",
              "    </g>\n",
              "</svg>\n",
              "      </button>\n",
              "\n",
              "<style>\n",
              "  .colab-df-quickchart {\n",
              "      --bg-color: #E8F0FE;\n",
              "      --fill-color: #1967D2;\n",
              "      --hover-bg-color: #E2EBFA;\n",
              "      --hover-fill-color: #174EA6;\n",
              "      --disabled-fill-color: #AAA;\n",
              "      --disabled-bg-color: #DDD;\n",
              "  }\n",
              "\n",
              "  [theme=dark] .colab-df-quickchart {\n",
              "      --bg-color: #3B4455;\n",
              "      --fill-color: #D2E3FC;\n",
              "      --hover-bg-color: #434B5C;\n",
              "      --hover-fill-color: #FFFFFF;\n",
              "      --disabled-bg-color: #3B4455;\n",
              "      --disabled-fill-color: #666;\n",
              "  }\n",
              "\n",
              "  .colab-df-quickchart {\n",
              "    background-color: var(--bg-color);\n",
              "    border: none;\n",
              "    border-radius: 50%;\n",
              "    cursor: pointer;\n",
              "    display: none;\n",
              "    fill: var(--fill-color);\n",
              "    height: 32px;\n",
              "    padding: 0;\n",
              "    width: 32px;\n",
              "  }\n",
              "\n",
              "  .colab-df-quickchart:hover {\n",
              "    background-color: var(--hover-bg-color);\n",
              "    box-shadow: 0 1px 2px rgba(60, 64, 67, 0.3), 0 1px 3px 1px rgba(60, 64, 67, 0.15);\n",
              "    fill: var(--button-hover-fill-color);\n",
              "  }\n",
              "\n",
              "  .colab-df-quickchart-complete:disabled,\n",
              "  .colab-df-quickchart-complete:disabled:hover {\n",
              "    background-color: var(--disabled-bg-color);\n",
              "    fill: var(--disabled-fill-color);\n",
              "    box-shadow: none;\n",
              "  }\n",
              "\n",
              "  .colab-df-spinner {\n",
              "    border: 2px solid var(--fill-color);\n",
              "    border-color: transparent;\n",
              "    border-bottom-color: var(--fill-color);\n",
              "    animation:\n",
              "      spin 1s steps(1) infinite;\n",
              "  }\n",
              "\n",
              "  @keyframes spin {\n",
              "    0% {\n",
              "      border-color: transparent;\n",
              "      border-bottom-color: var(--fill-color);\n",
              "      border-left-color: var(--fill-color);\n",
              "    }\n",
              "    20% {\n",
              "      border-color: transparent;\n",
              "      border-left-color: var(--fill-color);\n",
              "      border-top-color: var(--fill-color);\n",
              "    }\n",
              "    30% {\n",
              "      border-color: transparent;\n",
              "      border-left-color: var(--fill-color);\n",
              "      border-top-color: var(--fill-color);\n",
              "      border-right-color: var(--fill-color);\n",
              "    }\n",
              "    40% {\n",
              "      border-color: transparent;\n",
              "      border-right-color: var(--fill-color);\n",
              "      border-top-color: var(--fill-color);\n",
              "    }\n",
              "    60% {\n",
              "      border-color: transparent;\n",
              "      border-right-color: var(--fill-color);\n",
              "    }\n",
              "    80% {\n",
              "      border-color: transparent;\n",
              "      border-right-color: var(--fill-color);\n",
              "      border-bottom-color: var(--fill-color);\n",
              "    }\n",
              "    90% {\n",
              "      border-color: transparent;\n",
              "      border-bottom-color: var(--fill-color);\n",
              "    }\n",
              "  }\n",
              "</style>\n",
              "\n",
              "      <script>\n",
              "        async function quickchart(key) {\n",
              "          const quickchartButtonEl =\n",
              "            document.querySelector('#' + key + ' button');\n",
              "          quickchartButtonEl.disabled = true;  // To prevent multiple clicks.\n",
              "          quickchartButtonEl.classList.add('colab-df-spinner');\n",
              "          try {\n",
              "            const charts = await google.colab.kernel.invokeFunction(\n",
              "                'suggestCharts', [key], {});\n",
              "          } catch (error) {\n",
              "            console.error('Error during call to suggestCharts:', error);\n",
              "          }\n",
              "          quickchartButtonEl.classList.remove('colab-df-spinner');\n",
              "          quickchartButtonEl.classList.add('colab-df-quickchart-complete');\n",
              "        }\n",
              "        (() => {\n",
              "          let quickchartButtonEl =\n",
              "            document.querySelector('#df-a715c432-43c7-47b1-8b70-2d38893c3baa button');\n",
              "          quickchartButtonEl.style.display =\n",
              "            google.colab.kernel.accessAllowed ? 'block' : 'none';\n",
              "        })();\n",
              "      </script>\n",
              "    </div>\n",
              "\n",
              "  <div id=\"id_9fa33e2f-a6c6-4d70-b265-784a8d39b363\">\n",
              "    <style>\n",
              "      .colab-df-generate {\n",
              "        background-color: #E8F0FE;\n",
              "        border: none;\n",
              "        border-radius: 50%;\n",
              "        cursor: pointer;\n",
              "        display: none;\n",
              "        fill: #1967D2;\n",
              "        height: 32px;\n",
              "        padding: 0 0 0 0;\n",
              "        width: 32px;\n",
              "      }\n",
              "\n",
              "      .colab-df-generate:hover {\n",
              "        background-color: #E2EBFA;\n",
              "        box-shadow: 0px 1px 2px rgba(60, 64, 67, 0.3), 0px 1px 3px 1px rgba(60, 64, 67, 0.15);\n",
              "        fill: #174EA6;\n",
              "      }\n",
              "\n",
              "      [theme=dark] .colab-df-generate {\n",
              "        background-color: #3B4455;\n",
              "        fill: #D2E3FC;\n",
              "      }\n",
              "\n",
              "      [theme=dark] .colab-df-generate:hover {\n",
              "        background-color: #434B5C;\n",
              "        box-shadow: 0px 1px 3px 1px rgba(0, 0, 0, 0.15);\n",
              "        filter: drop-shadow(0px 1px 2px rgba(0, 0, 0, 0.3));\n",
              "        fill: #FFFFFF;\n",
              "      }\n",
              "    </style>\n",
              "    <button class=\"colab-df-generate\" onclick=\"generateWithVariable('df')\"\n",
              "            title=\"Generate code using this dataframe.\"\n",
              "            style=\"display:none;\">\n",
              "\n",
              "  <svg xmlns=\"http://www.w3.org/2000/svg\" height=\"24px\"viewBox=\"0 0 24 24\"\n",
              "       width=\"24px\">\n",
              "    <path d=\"M7,19H8.4L18.45,9,17,7.55,7,17.6ZM5,21V16.75L18.45,3.32a2,2,0,0,1,2.83,0l1.4,1.43a1.91,1.91,0,0,1,.58,1.4,1.91,1.91,0,0,1-.58,1.4L9.25,21ZM18.45,9,17,7.55Zm-12,3A5.31,5.31,0,0,0,4.9,8.1,5.31,5.31,0,0,0,1,6.5,5.31,5.31,0,0,0,4.9,4.9,5.31,5.31,0,0,0,6.5,1,5.31,5.31,0,0,0,8.1,4.9,5.31,5.31,0,0,0,12,6.5,5.46,5.46,0,0,0,6.5,12Z\"/>\n",
              "  </svg>\n",
              "    </button>\n",
              "    <script>\n",
              "      (() => {\n",
              "      const buttonEl =\n",
              "        document.querySelector('#id_9fa33e2f-a6c6-4d70-b265-784a8d39b363 button.colab-df-generate');\n",
              "      buttonEl.style.display =\n",
              "        google.colab.kernel.accessAllowed ? 'block' : 'none';\n",
              "\n",
              "      buttonEl.onclick = () => {\n",
              "        google.colab.notebook.generateWithVariable('df');\n",
              "      }\n",
              "      })();\n",
              "    </script>\n",
              "  </div>\n",
              "\n",
              "    </div>\n",
              "  </div>\n"
            ],
            "application/vnd.google.colaboratory.intrinsic+json": {
              "type": "dataframe",
              "variable_name": "df",
              "summary": "{\n  \"name\": \"df\",\n  \"rows\": 911,\n  \"fields\": [\n    {\n      \"column\": \"meals_served\",\n      \"properties\": {\n        \"dtype\": \"number\",\n        \"std\": 502,\n        \"min\": 100,\n        \"max\": 4730,\n        \"num_unique_values\": 373,\n        \"samples\": [\n          2830,\n          174,\n          265\n        ],\n        \"semantic_type\": \"\",\n        \"description\": \"\"\n      }\n    },\n    {\n      \"column\": \"kitchen_staff\",\n      \"properties\": {\n        \"dtype\": \"number\",\n        \"std\": 4,\n        \"min\": 5,\n        \"max\": 19,\n        \"num_unique_values\": 15,\n        \"samples\": [\n          8,\n          11,\n          13\n        ],\n        \"semantic_type\": \"\",\n        \"description\": \"\"\n      }\n    },\n    {\n      \"column\": \"temperature_C\",\n      \"properties\": {\n        \"dtype\": \"number\",\n        \"std\": 8.922389375372326,\n        \"min\": -10.372206511742178,\n        \"max\": 60.0,\n        \"num_unique_values\": 892,\n        \"samples\": [\n          34.70688177500328,\n          30.579350389891506,\n          20.099446908163703\n        ],\n        \"semantic_type\": \"\",\n        \"description\": \"\"\n      }\n    },\n    {\n      \"column\": \"humidity_percent\",\n      \"properties\": {\n        \"dtype\": \"number\",\n        \"std\": 17.33082119443006,\n        \"min\": 30.121111064894038,\n        \"max\": 89.98282824935484,\n        \"num_unique_values\": 867,\n        \"samples\": [\n          31.968577447716505,\n          51.371138827055645,\n          43.603642939797794\n        ],\n        \"semantic_type\": \"\",\n        \"description\": \"\"\n      }\n    },\n    {\n      \"column\": \"day_of_week\",\n      \"properties\": {\n        \"dtype\": \"number\",\n        \"std\": 2,\n        \"min\": 0,\n        \"max\": 6,\n        \"num_unique_values\": 7,\n        \"samples\": [\n          0,\n          1,\n          4\n        ],\n        \"semantic_type\": \"\",\n        \"description\": \"\"\n      }\n    },\n    {\n      \"column\": \"special_event\",\n      \"properties\": {\n        \"dtype\": \"number\",\n        \"std\": 0,\n        \"min\": 0,\n        \"max\": 1,\n        \"num_unique_values\": 2,\n        \"samples\": [\n          1,\n          0\n        ],\n        \"semantic_type\": \"\",\n        \"description\": \"\"\n      }\n    },\n    {\n      \"column\": \"past_waste_kg\",\n      \"properties\": {\n        \"dtype\": \"number\",\n        \"std\": 12.774222512568702,\n        \"min\": 5.0083937676798405,\n        \"max\": 49.803702511766375,\n        \"num_unique_values\": 867,\n        \"samples\": [\n          26.208872355835453,\n          38.28573039933987\n        ],\n        \"semantic_type\": \"\",\n        \"description\": \"\"\n      }\n    },\n    {\n      \"column\": \"staff_experience\",\n      \"properties\": {\n        \"dtype\": \"category\",\n        \"num_unique_values\": 4,\n        \"samples\": [\n          \"Beginner\",\n          \"EXPERT\"\n        ],\n        \"semantic_type\": \"\",\n        \"description\": \"\"\n      }\n    },\n    {\n      \"column\": \"waste_category\",\n      \"properties\": {\n        \"dtype\": \"category\",\n        \"num_unique_values\": 5,\n        \"samples\": [\n          \"MeAt\",\n          \"GRAINS\"\n        ],\n        \"semantic_type\": \"\",\n        \"description\": \"\"\n      }\n    },\n    {\n      \"column\": \"food_waste_kg\",\n      \"properties\": {\n        \"dtype\": \"number\",\n        \"std\": 27.93436623705769,\n        \"min\": 10.819047907328834,\n        \"max\": 274.32878295005906,\n        \"num_unique_values\": 867,\n        \"samples\": [\n          251.5389324680473,\n          40.61710993168761\n        ],\n        \"semantic_type\": \"\",\n        \"description\": \"\"\n      }\n    }\n  ]\n}"
            }
          },
          "metadata": {},
          "execution_count": 4
        }
      ],
      "source": [
        "df = df.drop([\"ID\", \"date\"], axis=1)\n",
        "df"
      ]
    },
    {
      "cell_type": "markdown",
      "metadata": {
        "id": "6rurCwhjbOGf"
      },
      "source": [
        "#Data Exploration"
      ]
    },
    {
      "cell_type": "code",
      "execution_count": 5,
      "metadata": {
        "colab": {
          "base_uri": "https://localhost:8080/"
        },
        "id": "Z4pJh7QyaK1s",
        "outputId": "bd41e8e5-ae50-4bbd-d8b0-b94736bf6f62"
      },
      "outputs": [
        {
          "output_type": "stream",
          "name": "stdout",
          "text": [
            "meals_served          0\n",
            "kitchen_staff         0\n",
            "temperature_C         0\n",
            "humidity_percent      0\n",
            "day_of_week           0\n",
            "special_event         0\n",
            "past_waste_kg         0\n",
            "staff_experience    164\n",
            "waste_category        0\n",
            "food_waste_kg         0\n",
            "dtype: int64\n",
            "meals_served          int64\n",
            "kitchen_staff         int64\n",
            "temperature_C       float64\n",
            "humidity_percent    float64\n",
            "day_of_week           int64\n",
            "special_event         int64\n",
            "past_waste_kg       float64\n",
            "staff_experience     object\n",
            "waste_category       object\n",
            "food_waste_kg       float64\n",
            "dtype: object\n"
          ]
        }
      ],
      "source": [
        "print(df.isna().sum())\n",
        "print(df.dtypes)"
      ]
    },
    {
      "cell_type": "code",
      "execution_count": 6,
      "metadata": {
        "colab": {
          "base_uri": "https://localhost:8080/",
          "height": 300
        },
        "id": "8Jiax9mea27b",
        "outputId": "c71d3dcd-fd1a-4f33-e236-c2218221fd5a"
      },
      "outputs": [
        {
          "output_type": "execute_result",
          "data": {
            "text/plain": [
              "       meals_served  kitchen_staff  temperature_C  humidity_percent  \\\n",
              "count    911.000000     911.000000     911.000000        911.000000   \n",
              "mean     375.405049      11.900110      22.189280         60.761313   \n",
              "std      502.812717       4.285153       8.922389         17.330821   \n",
              "min      100.000000       5.000000     -10.372207         30.121111   \n",
              "25%      211.000000       8.000000      15.684585         46.017835   \n",
              "50%      306.000000      12.000000      22.115040         61.633960   \n",
              "75%      407.000000      15.000000      28.804294         75.787910   \n",
              "max     4730.000000      19.000000      60.000000         89.982828   \n",
              "\n",
              "       day_of_week  special_event  past_waste_kg  food_waste_kg  \n",
              "count   911.000000     911.000000     911.000000     911.000000  \n",
              "mean      3.014270       0.085620      27.015691      44.842691  \n",
              "std       2.009542       0.279956      12.774223      27.934366  \n",
              "min       0.000000       0.000000       5.008394      10.819048  \n",
              "25%       1.000000       0.000000      16.091383      32.887912  \n",
              "50%       3.000000       0.000000      26.854109      41.146930  \n",
              "75%       5.000000       0.000000      38.149878      50.046681  \n",
              "max       6.000000       1.000000      49.803703     274.328783  "
            ],
            "text/html": [
              "\n",
              "  <div id=\"df-8242cf50-64a6-4931-9105-6a4c34964d16\" class=\"colab-df-container\">\n",
              "    <div>\n",
              "<style scoped>\n",
              "    .dataframe tbody tr th:only-of-type {\n",
              "        vertical-align: middle;\n",
              "    }\n",
              "\n",
              "    .dataframe tbody tr th {\n",
              "        vertical-align: top;\n",
              "    }\n",
              "\n",
              "    .dataframe thead th {\n",
              "        text-align: right;\n",
              "    }\n",
              "</style>\n",
              "<table border=\"1\" class=\"dataframe\">\n",
              "  <thead>\n",
              "    <tr style=\"text-align: right;\">\n",
              "      <th></th>\n",
              "      <th>meals_served</th>\n",
              "      <th>kitchen_staff</th>\n",
              "      <th>temperature_C</th>\n",
              "      <th>humidity_percent</th>\n",
              "      <th>day_of_week</th>\n",
              "      <th>special_event</th>\n",
              "      <th>past_waste_kg</th>\n",
              "      <th>food_waste_kg</th>\n",
              "    </tr>\n",
              "  </thead>\n",
              "  <tbody>\n",
              "    <tr>\n",
              "      <th>count</th>\n",
              "      <td>911.000000</td>\n",
              "      <td>911.000000</td>\n",
              "      <td>911.000000</td>\n",
              "      <td>911.000000</td>\n",
              "      <td>911.000000</td>\n",
              "      <td>911.000000</td>\n",
              "      <td>911.000000</td>\n",
              "      <td>911.000000</td>\n",
              "    </tr>\n",
              "    <tr>\n",
              "      <th>mean</th>\n",
              "      <td>375.405049</td>\n",
              "      <td>11.900110</td>\n",
              "      <td>22.189280</td>\n",
              "      <td>60.761313</td>\n",
              "      <td>3.014270</td>\n",
              "      <td>0.085620</td>\n",
              "      <td>27.015691</td>\n",
              "      <td>44.842691</td>\n",
              "    </tr>\n",
              "    <tr>\n",
              "      <th>std</th>\n",
              "      <td>502.812717</td>\n",
              "      <td>4.285153</td>\n",
              "      <td>8.922389</td>\n",
              "      <td>17.330821</td>\n",
              "      <td>2.009542</td>\n",
              "      <td>0.279956</td>\n",
              "      <td>12.774223</td>\n",
              "      <td>27.934366</td>\n",
              "    </tr>\n",
              "    <tr>\n",
              "      <th>min</th>\n",
              "      <td>100.000000</td>\n",
              "      <td>5.000000</td>\n",
              "      <td>-10.372207</td>\n",
              "      <td>30.121111</td>\n",
              "      <td>0.000000</td>\n",
              "      <td>0.000000</td>\n",
              "      <td>5.008394</td>\n",
              "      <td>10.819048</td>\n",
              "    </tr>\n",
              "    <tr>\n",
              "      <th>25%</th>\n",
              "      <td>211.000000</td>\n",
              "      <td>8.000000</td>\n",
              "      <td>15.684585</td>\n",
              "      <td>46.017835</td>\n",
              "      <td>1.000000</td>\n",
              "      <td>0.000000</td>\n",
              "      <td>16.091383</td>\n",
              "      <td>32.887912</td>\n",
              "    </tr>\n",
              "    <tr>\n",
              "      <th>50%</th>\n",
              "      <td>306.000000</td>\n",
              "      <td>12.000000</td>\n",
              "      <td>22.115040</td>\n",
              "      <td>61.633960</td>\n",
              "      <td>3.000000</td>\n",
              "      <td>0.000000</td>\n",
              "      <td>26.854109</td>\n",
              "      <td>41.146930</td>\n",
              "    </tr>\n",
              "    <tr>\n",
              "      <th>75%</th>\n",
              "      <td>407.000000</td>\n",
              "      <td>15.000000</td>\n",
              "      <td>28.804294</td>\n",
              "      <td>75.787910</td>\n",
              "      <td>5.000000</td>\n",
              "      <td>0.000000</td>\n",
              "      <td>38.149878</td>\n",
              "      <td>50.046681</td>\n",
              "    </tr>\n",
              "    <tr>\n",
              "      <th>max</th>\n",
              "      <td>4730.000000</td>\n",
              "      <td>19.000000</td>\n",
              "      <td>60.000000</td>\n",
              "      <td>89.982828</td>\n",
              "      <td>6.000000</td>\n",
              "      <td>1.000000</td>\n",
              "      <td>49.803703</td>\n",
              "      <td>274.328783</td>\n",
              "    </tr>\n",
              "  </tbody>\n",
              "</table>\n",
              "</div>\n",
              "    <div class=\"colab-df-buttons\">\n",
              "\n",
              "  <div class=\"colab-df-container\">\n",
              "    <button class=\"colab-df-convert\" onclick=\"convertToInteractive('df-8242cf50-64a6-4931-9105-6a4c34964d16')\"\n",
              "            title=\"Convert this dataframe to an interactive table.\"\n",
              "            style=\"display:none;\">\n",
              "\n",
              "  <svg xmlns=\"http://www.w3.org/2000/svg\" height=\"24px\" viewBox=\"0 -960 960 960\">\n",
              "    <path d=\"M120-120v-720h720v720H120Zm60-500h600v-160H180v160Zm220 220h160v-160H400v160Zm0 220h160v-160H400v160ZM180-400h160v-160H180v160Zm440 0h160v-160H620v160ZM180-180h160v-160H180v160Zm440 0h160v-160H620v160Z\"/>\n",
              "  </svg>\n",
              "    </button>\n",
              "\n",
              "  <style>\n",
              "    .colab-df-container {\n",
              "      display:flex;\n",
              "      gap: 12px;\n",
              "    }\n",
              "\n",
              "    .colab-df-convert {\n",
              "      background-color: #E8F0FE;\n",
              "      border: none;\n",
              "      border-radius: 50%;\n",
              "      cursor: pointer;\n",
              "      display: none;\n",
              "      fill: #1967D2;\n",
              "      height: 32px;\n",
              "      padding: 0 0 0 0;\n",
              "      width: 32px;\n",
              "    }\n",
              "\n",
              "    .colab-df-convert:hover {\n",
              "      background-color: #E2EBFA;\n",
              "      box-shadow: 0px 1px 2px rgba(60, 64, 67, 0.3), 0px 1px 3px 1px rgba(60, 64, 67, 0.15);\n",
              "      fill: #174EA6;\n",
              "    }\n",
              "\n",
              "    .colab-df-buttons div {\n",
              "      margin-bottom: 4px;\n",
              "    }\n",
              "\n",
              "    [theme=dark] .colab-df-convert {\n",
              "      background-color: #3B4455;\n",
              "      fill: #D2E3FC;\n",
              "    }\n",
              "\n",
              "    [theme=dark] .colab-df-convert:hover {\n",
              "      background-color: #434B5C;\n",
              "      box-shadow: 0px 1px 3px 1px rgba(0, 0, 0, 0.15);\n",
              "      filter: drop-shadow(0px 1px 2px rgba(0, 0, 0, 0.3));\n",
              "      fill: #FFFFFF;\n",
              "    }\n",
              "  </style>\n",
              "\n",
              "    <script>\n",
              "      const buttonEl =\n",
              "        document.querySelector('#df-8242cf50-64a6-4931-9105-6a4c34964d16 button.colab-df-convert');\n",
              "      buttonEl.style.display =\n",
              "        google.colab.kernel.accessAllowed ? 'block' : 'none';\n",
              "\n",
              "      async function convertToInteractive(key) {\n",
              "        const element = document.querySelector('#df-8242cf50-64a6-4931-9105-6a4c34964d16');\n",
              "        const dataTable =\n",
              "          await google.colab.kernel.invokeFunction('convertToInteractive',\n",
              "                                                    [key], {});\n",
              "        if (!dataTable) return;\n",
              "\n",
              "        const docLinkHtml = 'Like what you see? Visit the ' +\n",
              "          '<a target=\"_blank\" href=https://colab.research.google.com/notebooks/data_table.ipynb>data table notebook</a>'\n",
              "          + ' to learn more about interactive tables.';\n",
              "        element.innerHTML = '';\n",
              "        dataTable['output_type'] = 'display_data';\n",
              "        await google.colab.output.renderOutput(dataTable, element);\n",
              "        const docLink = document.createElement('div');\n",
              "        docLink.innerHTML = docLinkHtml;\n",
              "        element.appendChild(docLink);\n",
              "      }\n",
              "    </script>\n",
              "  </div>\n",
              "\n",
              "\n",
              "    <div id=\"df-6856f354-73ba-4e69-8328-6262759de4f1\">\n",
              "      <button class=\"colab-df-quickchart\" onclick=\"quickchart('df-6856f354-73ba-4e69-8328-6262759de4f1')\"\n",
              "                title=\"Suggest charts\"\n",
              "                style=\"display:none;\">\n",
              "\n",
              "<svg xmlns=\"http://www.w3.org/2000/svg\" height=\"24px\"viewBox=\"0 0 24 24\"\n",
              "     width=\"24px\">\n",
              "    <g>\n",
              "        <path d=\"M19 3H5c-1.1 0-2 .9-2 2v14c0 1.1.9 2 2 2h14c1.1 0 2-.9 2-2V5c0-1.1-.9-2-2-2zM9 17H7v-7h2v7zm4 0h-2V7h2v10zm4 0h-2v-4h2v4z\"/>\n",
              "    </g>\n",
              "</svg>\n",
              "      </button>\n",
              "\n",
              "<style>\n",
              "  .colab-df-quickchart {\n",
              "      --bg-color: #E8F0FE;\n",
              "      --fill-color: #1967D2;\n",
              "      --hover-bg-color: #E2EBFA;\n",
              "      --hover-fill-color: #174EA6;\n",
              "      --disabled-fill-color: #AAA;\n",
              "      --disabled-bg-color: #DDD;\n",
              "  }\n",
              "\n",
              "  [theme=dark] .colab-df-quickchart {\n",
              "      --bg-color: #3B4455;\n",
              "      --fill-color: #D2E3FC;\n",
              "      --hover-bg-color: #434B5C;\n",
              "      --hover-fill-color: #FFFFFF;\n",
              "      --disabled-bg-color: #3B4455;\n",
              "      --disabled-fill-color: #666;\n",
              "  }\n",
              "\n",
              "  .colab-df-quickchart {\n",
              "    background-color: var(--bg-color);\n",
              "    border: none;\n",
              "    border-radius: 50%;\n",
              "    cursor: pointer;\n",
              "    display: none;\n",
              "    fill: var(--fill-color);\n",
              "    height: 32px;\n",
              "    padding: 0;\n",
              "    width: 32px;\n",
              "  }\n",
              "\n",
              "  .colab-df-quickchart:hover {\n",
              "    background-color: var(--hover-bg-color);\n",
              "    box-shadow: 0 1px 2px rgba(60, 64, 67, 0.3), 0 1px 3px 1px rgba(60, 64, 67, 0.15);\n",
              "    fill: var(--button-hover-fill-color);\n",
              "  }\n",
              "\n",
              "  .colab-df-quickchart-complete:disabled,\n",
              "  .colab-df-quickchart-complete:disabled:hover {\n",
              "    background-color: var(--disabled-bg-color);\n",
              "    fill: var(--disabled-fill-color);\n",
              "    box-shadow: none;\n",
              "  }\n",
              "\n",
              "  .colab-df-spinner {\n",
              "    border: 2px solid var(--fill-color);\n",
              "    border-color: transparent;\n",
              "    border-bottom-color: var(--fill-color);\n",
              "    animation:\n",
              "      spin 1s steps(1) infinite;\n",
              "  }\n",
              "\n",
              "  @keyframes spin {\n",
              "    0% {\n",
              "      border-color: transparent;\n",
              "      border-bottom-color: var(--fill-color);\n",
              "      border-left-color: var(--fill-color);\n",
              "    }\n",
              "    20% {\n",
              "      border-color: transparent;\n",
              "      border-left-color: var(--fill-color);\n",
              "      border-top-color: var(--fill-color);\n",
              "    }\n",
              "    30% {\n",
              "      border-color: transparent;\n",
              "      border-left-color: var(--fill-color);\n",
              "      border-top-color: var(--fill-color);\n",
              "      border-right-color: var(--fill-color);\n",
              "    }\n",
              "    40% {\n",
              "      border-color: transparent;\n",
              "      border-right-color: var(--fill-color);\n",
              "      border-top-color: var(--fill-color);\n",
              "    }\n",
              "    60% {\n",
              "      border-color: transparent;\n",
              "      border-right-color: var(--fill-color);\n",
              "    }\n",
              "    80% {\n",
              "      border-color: transparent;\n",
              "      border-right-color: var(--fill-color);\n",
              "      border-bottom-color: var(--fill-color);\n",
              "    }\n",
              "    90% {\n",
              "      border-color: transparent;\n",
              "      border-bottom-color: var(--fill-color);\n",
              "    }\n",
              "  }\n",
              "</style>\n",
              "\n",
              "      <script>\n",
              "        async function quickchart(key) {\n",
              "          const quickchartButtonEl =\n",
              "            document.querySelector('#' + key + ' button');\n",
              "          quickchartButtonEl.disabled = true;  // To prevent multiple clicks.\n",
              "          quickchartButtonEl.classList.add('colab-df-spinner');\n",
              "          try {\n",
              "            const charts = await google.colab.kernel.invokeFunction(\n",
              "                'suggestCharts', [key], {});\n",
              "          } catch (error) {\n",
              "            console.error('Error during call to suggestCharts:', error);\n",
              "          }\n",
              "          quickchartButtonEl.classList.remove('colab-df-spinner');\n",
              "          quickchartButtonEl.classList.add('colab-df-quickchart-complete');\n",
              "        }\n",
              "        (() => {\n",
              "          let quickchartButtonEl =\n",
              "            document.querySelector('#df-6856f354-73ba-4e69-8328-6262759de4f1 button');\n",
              "          quickchartButtonEl.style.display =\n",
              "            google.colab.kernel.accessAllowed ? 'block' : 'none';\n",
              "        })();\n",
              "      </script>\n",
              "    </div>\n",
              "\n",
              "    </div>\n",
              "  </div>\n"
            ],
            "application/vnd.google.colaboratory.intrinsic+json": {
              "type": "dataframe",
              "summary": "{\n  \"name\": \"df\",\n  \"rows\": 8,\n  \"fields\": [\n    {\n      \"column\": \"meals_served\",\n      \"properties\": {\n        \"dtype\": \"number\",\n        \"std\": 1549.0946570660876,\n        \"min\": 100.0,\n        \"max\": 4730.0,\n        \"num_unique_values\": 8,\n        \"samples\": [\n          375.4050493962678,\n          306.0,\n          911.0\n        ],\n        \"semantic_type\": \"\",\n        \"description\": \"\"\n      }\n    },\n    {\n      \"column\": \"kitchen_staff\",\n      \"properties\": {\n        \"dtype\": \"number\",\n        \"std\": 318.3281782608858,\n        \"min\": 4.285153258574998,\n        \"max\": 911.0,\n        \"num_unique_values\": 8,\n        \"samples\": [\n          11.900109769484084,\n          12.0,\n          911.0\n        ],\n        \"semantic_type\": \"\",\n        \"description\": \"\"\n      }\n    },\n    {\n      \"column\": \"temperature_C\",\n      \"properties\": {\n        \"dtype\": \"number\",\n        \"std\": 315.2672302126517,\n        \"min\": -10.372206511742178,\n        \"max\": 911.0,\n        \"num_unique_values\": 8,\n        \"samples\": [\n          22.189280331665273,\n          22.115039675471618,\n          911.0\n        ],\n        \"semantic_type\": \"\",\n        \"description\": \"\"\n      }\n    },\n    {\n      \"column\": \"humidity_percent\",\n      \"properties\": {\n        \"dtype\": \"number\",\n        \"std\": 303.71844853150316,\n        \"min\": 17.33082119443006,\n        \"max\": 911.0,\n        \"num_unique_values\": 8,\n        \"samples\": [\n          60.761313215395525,\n          61.633959645234754,\n          911.0\n        ],\n        \"semantic_type\": \"\",\n        \"description\": \"\"\n      }\n    },\n    {\n      \"column\": \"day_of_week\",\n      \"properties\": {\n        \"dtype\": \"number\",\n        \"std\": 321.0817556856484,\n        \"min\": 0.0,\n        \"max\": 911.0,\n        \"num_unique_values\": 8,\n        \"samples\": [\n          3.0142700329308454,\n          3.0,\n          911.0\n        ],\n        \"semantic_type\": \"\",\n        \"description\": \"\"\n      }\n    },\n    {\n      \"column\": \"special_event\",\n      \"properties\": {\n        \"dtype\": \"number\",\n        \"std\": 322.0183485471397,\n        \"min\": 0.0,\n        \"max\": 911.0,\n        \"num_unique_values\": 5,\n        \"samples\": [\n          0.08562019758507135,\n          1.0,\n          0.279956088763159\n        ],\n        \"semantic_type\": \"\",\n        \"description\": \"\"\n      }\n    },\n    {\n      \"column\": \"past_waste_kg\",\n      \"properties\": {\n        \"dtype\": \"number\",\n        \"std\": 313.53767391727564,\n        \"min\": 5.0083937676798405,\n        \"max\": 911.0,\n        \"num_unique_values\": 8,\n        \"samples\": [\n          27.015690516243577,\n          26.854108940042472,\n          911.0\n        ],\n        \"semantic_type\": \"\",\n        \"description\": \"\"\n      }\n    },\n    {\n      \"column\": \"food_waste_kg\",\n      \"properties\": {\n        \"dtype\": \"number\",\n        \"std\": 309.5634082319102,\n        \"min\": 10.819047907328834,\n        \"max\": 911.0,\n        \"num_unique_values\": 8,\n        \"samples\": [\n          44.842690535696,\n          41.14693013822528,\n          911.0\n        ],\n        \"semantic_type\": \"\",\n        \"description\": \"\"\n      }\n    }\n  ]\n}"
            }
          },
          "metadata": {},
          "execution_count": 6
        }
      ],
      "source": [
        "df.describe()"
      ]
    },
    {
      "cell_type": "code",
      "execution_count": 7,
      "metadata": {
        "colab": {
          "base_uri": "https://localhost:8080/"
        },
        "id": "RymTu0DWbC4E",
        "outputId": "067b3031-d6aa-44a6-a71f-c05c2d67af8b"
      },
      "outputs": [
        {
          "output_type": "stream",
          "name": "stdout",
          "text": [
            "meals_served        373\n",
            "kitchen_staff        15\n",
            "temperature_C       892\n",
            "humidity_percent    867\n",
            "day_of_week           7\n",
            "special_event         2\n",
            "past_waste_kg       867\n",
            "staff_experience      4\n",
            "waste_category        5\n",
            "food_waste_kg       867\n",
            "dtype: int64\n",
            "------------------\n",
            "0\n"
          ]
        }
      ],
      "source": [
        "print(df.nunique())\n",
        "print('------------------')\n",
        "print(df.duplicated().sum())"
      ]
    },
    {
      "cell_type": "code",
      "execution_count": 8,
      "metadata": {
        "colab": {
          "base_uri": "https://localhost:8080/"
        },
        "id": "scyF8DkAlkLD",
        "outputId": "8b7d5018-9e01-4971-9538-d78daacaa6a2"
      },
      "outputs": [
        {
          "output_type": "stream",
          "name": "stdout",
          "text": [
            "['intermediate' nan 'Beginner' 'Intermediate' 'EXPERT']\n",
            "[0 1 6 3 5 4 2]\n",
            "[0 1]\n",
            "['dairy' 'MeAt' 'MEAT' 'Vegetables' 'GRAINS']\n"
          ]
        }
      ],
      "source": [
        "print(df['staff_experience'].unique())\n",
        "print(df['day_of_week'].unique())\n",
        "print(df['special_event'].unique())\n",
        "print(df['waste_category'].unique())"
      ]
    },
    {
      "cell_type": "code",
      "execution_count": 9,
      "metadata": {
        "id": "ee1v3jLPmDab"
      },
      "outputs": [],
      "source": [
        "str_cols_to_fix = ['waste_category', 'staff_experience']\n",
        "\n",
        "for col in str_cols_to_fix:\n",
        "  df[col] = df[col].str.strip().str.lower()"
      ]
    },
    {
      "cell_type": "markdown",
      "metadata": {
        "id": "GWvWTiFtrtDb"
      },
      "source": [
        "# data visualization & dealing with outliers\n"
      ]
    },
    {
      "cell_type": "code",
      "execution_count": 10,
      "metadata": {
        "colab": {
          "base_uri": "https://localhost:8080/",
          "height": 449
        },
        "id": "c1X79MguvTWt",
        "outputId": "2bde3ee0-f83c-4a7b-fee5-20875bb8776b"
      },
      "outputs": [
        {
          "output_type": "display_data",
          "data": {
            "text/plain": [
              "<Figure size 640x480 with 1 Axes>"
            ],
            "image/png": "[encoded data removed]"
          },
          "metadata": {}
        }
      ],
      "source": [
        "plt.hist(df['humidity_percent'], edgecolor='k')\n",
        "plt.xlabel('humidity percent')\n",
        "plt.show()"
      ]
    },
    {
      "cell_type": "code",
      "execution_count": 11,
      "metadata": {
        "colab": {
          "base_uri": "https://localhost:8080/",
          "height": 449
        },
        "id": "fssFnk12wZ31",
        "outputId": "5c804404-bcc1-47e7-eabd-c8df4ac10014"
      },
      "outputs": [
        {
          "output_type": "display_data",
          "data": {
            "text/plain": [
              "<Figure size 640x480 with 1 Axes>"
            ],
            "image/png": "[encoded data removed]"
          },
          "metadata": {}
        }
      ],
      "source": [
        "plt.scatter(df['past_waste_kg'], df['food_waste_kg'])\n",
        "\n",
        "plt.xlabel('past waste kg')\n",
        "plt.ylabel('food waste kg')\n",
        "plt.show()"
      ]
    },
    {
      "cell_type": "code",
      "execution_count": 12,
      "metadata": {
        "colab": {
          "base_uri": "https://localhost:8080/",
          "height": 449
        },
        "id": "2XUc8-hgy-6y",
        "outputId": "6cc9bf72-5b03-4bc6-e569-0cdd1d16beb1"
      },
      "outputs": [
        {
          "output_type": "display_data",
          "data": {
            "text/plain": [
              "<Figure size 640x480 with 1 Axes>"
            ],
            "image/png": "[encoded data removed]"
          },
          "metadata": {}
        }
      ],
      "source": [
        "plt.hist(df['past_waste_kg'], edgecolor='k')\n",
        "plt.xlabel('past waste kg')\n",
        "plt.show()"
      ]
    },
    {
      "cell_type": "code",
      "execution_count": 13,
      "metadata": {
        "colab": {
          "base_uri": "https://localhost:8080/",
          "height": 449
        },
        "id": "QdGbo60axrDM",
        "outputId": "cf0b4725-6343-4e84-8632-fb0ce4849ecc"
      },
      "outputs": [
        {
          "output_type": "display_data",
          "data": {
            "text/plain": [
              "<Figure size 640x480 with 1 Axes>"
            ],
            "image/png": "[encoded data removed]"
          },
          "metadata": {}
        }
      ],
      "source": [
        "plt.scatter(df['temperature_C'], df['food_waste_kg'])\n",
        "\n",
        "plt.xlabel('past waste kg')\n",
        "plt.ylabel('food waste kg')\n",
        "plt.show()"
      ]
    },
    {
      "cell_type": "code",
      "execution_count": 14,
      "metadata": {
        "colab": {
          "base_uri": "https://localhost:8080/",
          "height": 430
        },
        "id": "ljciCxF-rv6a",
        "outputId": "676fb3b0-5575-4f95-a8fd-a2b3655d9ccf"
      },
      "outputs": [
        {
          "output_type": "display_data",
          "data": {
            "text/plain": [
              "<Figure size 640x480 with 1 Axes>"
            ],
            "image/png": "[encoded data removed]"
          },
          "metadata": {}
        }
      ],
      "source": [
        "plt.hist(df['temperature_C'], edgecolor='k')\n",
        "plt.show()"
      ]
    },
    {
      "cell_type": "markdown",
      "metadata": {
        "id": "EABddhM9t0Ju"
      },
      "source": [
        "**using IQR to detect outliers**"
      ]
    },
    {
      "cell_type": "code",
      "execution_count": 15,
      "metadata": {
        "id": "owiidBNbd6qe"
      },
      "outputs": [],
      "source": [
        "Q1 = df.temperature_C.quantile(0.25)\n",
        "Q3 = df.temperature_C.quantile(0.75)\n",
        "\n",
        "IQR = Q3-Q1\n",
        "IQR\n",
        "\n",
        "lower_limit = Q1 - 1.5*IQR\n",
        "upper_limit = Q3 + 1.5*IQR"
      ]
    },
    {
      "cell_type": "code",
      "execution_count": 16,
      "metadata": {
        "id": "LoXubY1_lLjF"
      },
      "outputs": [],
      "source": [
        "df['temperature_C'] = df['temperature_C'].apply(lambda x: np.nan if x<lower_limit or x>upper_limit else x)\n"
      ]
    },
    {
      "cell_type": "code",
      "execution_count": 17,
      "metadata": {
        "colab": {
          "base_uri": "https://localhost:8080/",
          "height": 430
        },
        "id": "s91Pn9z5jgUn",
        "outputId": "4d405d4c-2c0d-48e2-8481-536ede1d6061"
      },
      "outputs": [
        {
          "output_type": "display_data",
          "data": {
            "text/plain": [
              "<Figure size 640x480 with 1 Axes>"
            ],
            "image/png": "[encoded data removed]"
          },
          "metadata": {}
        }
      ],
      "source": [
        "plt.hist(df['temperature_C'], edgecolor='k')\n",
        "plt.show()"
      ]
    },
    {
      "cell_type": "code",
      "execution_count": 18,
      "metadata": {
        "colab": {
          "base_uri": "https://localhost:8080/",
          "height": 430
        },
        "id": "FM_5SpYiDmis",
        "outputId": "c591f961-5927-400d-86e2-dd120c682397"
      },
      "outputs": [
        {
          "output_type": "display_data",
          "data": {
            "text/plain": [
              "<Figure size 640x480 with 1 Axes>"
            ],
            "image/png": "[encoded data removed]"
          },
          "metadata": {}
        }
      ],
      "source": [
        "plt.hist(df['meals_served'], edgecolor='k')\n",
        "plt.show()"
      ]
    },
    {
      "cell_type": "code",
      "execution_count": 19,
      "metadata": {
        "id": "7SscIUYZgL3e"
      },
      "outputs": [],
      "source": [
        "Q1 = df.meals_served.quantile(0.25)\n",
        "Q3 = df.meals_served.quantile(0.75)\n",
        "\n",
        "IQR = Q3-Q1\n",
        "IQR\n",
        "\n",
        "lower_limit = Q1 - 1.5*IQR\n",
        "upper_limit = Q3 + 1.5*IQR\n",
        "\n",
        "df = df[(df['meals_served'] > lower_limit) & (df['meals_served'] < upper_limit)]"
      ]
    },
    {
      "cell_type": "code",
      "execution_count": 20,
      "metadata": {
        "colab": {
          "base_uri": "https://localhost:8080/",
          "height": 430
        },
        "id": "8kAppapjmxhS",
        "outputId": "480aff7d-170e-41a8-ab8b-1a71f55ecd27"
      },
      "outputs": [
        {
          "output_type": "display_data",
          "data": {
            "text/plain": [
              "<Figure size 640x480 with 1 Axes>"
            ],
            "image/png": "[encoded data removed]"
          },
          "metadata": {}
        }
      ],
      "source": [
        "plt.hist(df['meals_served'], edgecolor='k')\n",
        "plt.show()"
      ]
    },
    {
      "cell_type": "markdown",
      "metadata": {
        "id": "fq1eHQkQrw1Z"
      },
      "source": [
        "# Data Preprocessing"
      ]
    },
    {
      "cell_type": "code",
      "execution_count": 21,
      "metadata": {
        "id": "dvgZLc97ZdjH"
      },
      "outputs": [],
      "source": [
        "x = df.iloc[:, :-1]\n",
        "y = df.iloc[:, -1]\n",
        "\n",
        "x_train, x_test, y_train, y_test = train_test_split(x, y, test_size=0.2, random_state=42)"
      ]
    },
    {
      "cell_type": "code",
      "execution_count": 22,
      "metadata": {
        "id": "Si9w43SAYtBK"
      },
      "outputs": [],
      "source": [
        "cat_cols = ['day_of_week', 'special_event', 'waste_category']\n",
        "num_cols = ['meals_served', 'kitchen_staff', 'temperature_C', 'humidity_percent', 'past_waste_kg']\n",
        "ord_cols  = ['staff_experience']"
      ]
    },
    {
      "cell_type": "code",
      "execution_count": 23,
      "metadata": {
        "id": "cvIcrDIGI_SC"
      },
      "outputs": [],
      "source": [
        "num_pipeline = Pipeline(steps = [\n",
        "    ('impute', SimpleImputer(strategy='mean')),\n",
        "    ('scale', StandardScaler())\n",
        "])"
      ]
    },
    {
      "cell_type": "code",
      "execution_count": 24,
      "metadata": {
        "id": "c8jxe0luJo53"
      },
      "outputs": [],
      "source": [
        "cat_pipeline = Pipeline(steps = [\n",
        "    ('impute', SimpleImputer(strategy='most_frequent')),\n",
        "    ('one-hot-encoder', OneHotEncoder(handle_unknown='ignore', sparse_output=False))\n",
        "])"
      ]
    },
    {
      "cell_type": "code",
      "execution_count": 25,
      "metadata": {
        "id": "ORChIZ8olMOF"
      },
      "outputs": [],
      "source": [
        "ordinal_pipeline = Pipeline(steps=[\n",
        "    ('impute_missing', SimpleImputer(strategy='most_frequent')),\n",
        "    ('encode', OrdinalEncoder(\n",
        "        categories= [['beginner', 'intermediate', 'expert']],\n",
        "        handle_unknown='use_encoded_value',\n",
        "        unknown_value=np.nan\n",
        "    )),\n",
        "    ('impute_unknowns', SimpleImputer(strategy='most_frequent'))\n",
        "])"
      ]
    },
    {
      "cell_type": "code",
      "execution_count": 26,
      "metadata": {
        "id": "vzZtKvkJKCw3"
      },
      "outputs": [],
      "source": [
        "col_transformer = ColumnTransformer(transformers= [\n",
        "    ('num_pipeline', num_pipeline, num_cols),\n",
        "    ('cat_pipeline', cat_pipeline, cat_cols),\n",
        "    ('ordinal_pipeline', ordinal_pipeline, ord_cols)\n",
        "],remainder='drop',n_jobs=-1)"
      ]
    },
    {
      "cell_type": "markdown",
      "metadata": {
        "id": "-5IMjbHX3jVa"
      },
      "source": [
        "# Modeling"
      ]
    },
    {
      "cell_type": "code",
      "execution_count": 27,
      "metadata": {
        "id": "KuZfKKt2Kg0S"
      },
      "outputs": [],
      "source": [
        "rfr = RandomForestRegressor()\n",
        "lr = LinearRegression()\n",
        "svr = SVR()"
      ]
    },
    {
      "cell_type": "code",
      "execution_count": 28,
      "metadata": {
        "id": "FjKtAkdhWRql"
      },
      "outputs": [],
      "source": [
        "rfr_pipe = Pipeline([\n",
        "    (\"prep\", col_transformer),\n",
        "    (\"model\", rfr)\n",
        "])\n",
        "\n",
        "lr_pipe = Pipeline([\n",
        "    (\"prep\", col_transformer),\n",
        "    (\"model\", lr)\n",
        "])\n",
        "\n",
        "svr_pipe = Pipeline([\n",
        "    (\"prep\", col_transformer),\n",
        "    (\"model\", svr)\n",
        "])\n",
        "\n",
        "param_grid_rfr = {\n",
        "    \"model__n_estimators\": [100, 500],\n",
        "    \"model__max_depth\": [None, 10, 20, 30]\n",
        "}\n",
        "\n",
        "param_grid_svr = {\n",
        "    \"model__kernel\": [\"linear\", \"rbf\"],\n",
        "    \"model__C\": [0.1, 1, 10, 100],\n",
        "    \"model__epsilon\": [0.01, 0.1, 0.5, 1.0]\n",
        "}"
      ]
    },
    {
      "cell_type": "code",
      "execution_count": 29,
      "metadata": {
        "colab": {
          "base_uri": "https://localhost:8080/"
        },
        "id": "ZuQpj37MXXmR",
        "outputId": "45fa4482-21d5-41cf-da12-5422a6c70620"
      },
      "outputs": [
        {
          "output_type": "stream",
          "name": "stdout",
          "text": [
            "LinearRegression R²: 0.779194287777096\n"
          ]
        }
      ],
      "source": [
        "lr_pipe.fit(x_train, y_train)\n",
        "lr_r2 = lr_pipe.score(x_test, y_test)\n",
        "print(\"LinearRegression R²:\", lr_r2)"
      ]
    },
    {
      "cell_type": "code",
      "execution_count": 30,
      "metadata": {
        "colab": {
          "base_uri": "https://localhost:8080/"
        },
        "id": "d5ELRY1qd8vO",
        "outputId": "a1491dcd-9e34-477c-aed4-1154678360a1"
      },
      "outputs": [
        {
          "output_type": "stream",
          "name": "stdout",
          "text": [
            "Best svr R²: 0.8117959269614632\n"
          ]
        }
      ],
      "source": [
        "svr_cv= GridSearchCV(svr_pipe, param_grid_svr, cv=5, scoring=\"r2\", n_jobs=-1)\n",
        "svr_cv.fit(x_train, y_train)\n",
        "print(\"Best svr R²:\", svr_cv.best_score_)"
      ]
    },
    {
      "cell_type": "code",
      "execution_count": 31,
      "metadata": {
        "id": "DD1C7SoMd7zB",
        "colab": {
          "base_uri": "https://localhost:8080/"
        },
        "outputId": "c738f434-7f33-4d1a-9e8d-5056e770aebd"
      },
      "outputs": [
        {
          "output_type": "stream",
          "name": "stdout",
          "text": [
            "Best rfc R²: 0.7798187924022797\n"
          ]
        }
      ],
      "source": [
        "rfr_cv= GridSearchCV(rfr_pipe, param_grid_rfr, cv=5, scoring=\"r2\", n_jobs=-1)\n",
        "rfr_cv.fit(x_train, y_train)\n",
        "print(\"Best rfc R²:\", rfr_cv.best_score_)"
      ]
    },
    {
      "cell_type": "markdown",
      "metadata": {
        "id": "8MzcHCUz4PAX"
      },
      "source": [
        "support vector regression brings the best results, tuning hyperparameters further"
      ]
    },
    {
      "cell_type": "code",
      "execution_count": 32,
      "metadata": {
        "id": "bzeZgBSWmLoi",
        "colab": {
          "base_uri": "https://localhost:8080/"
        },
        "outputId": "c4810058-6d1a-42bc-bc60-f3a507e04ad8"
      },
      "outputs": [
        {
          "output_type": "stream",
          "name": "stdout",
          "text": [
            "svr Test R²: 0.777388706619024\n"
          ]
        }
      ],
      "source": [
        "svr_cv_r2 = svr_cv.best_estimator_.score(x_test, y_test)\n",
        "print(\"svr Test R²:\", svr_cv_r2)"
      ]
    },
    {
      "cell_type": "code",
      "execution_count": 33,
      "metadata": {
        "colab": {
          "base_uri": "https://localhost:8080/"
        },
        "id": "MZjTBGPaq2AI",
        "outputId": "9fce257d-4a71-4485-d338-f490f61bad31"
      },
      "outputs": [
        {
          "output_type": "stream",
          "name": "stdout",
          "text": [
            "Best svr R²: 0.8117959269614632\n",
            "svr Test R²: 0.777388706619024\n"
          ]
        }
      ],
      "source": [
        "param_grid_svr = {\n",
        "    \"model__kernel\": [\"linear\", \"rbf\", \"poly\", \"sigmoid\"],\n",
        "    \"model__C\": [0.1, 1, 10, 100],\n",
        "    \"model__epsilon\": [0.01, 0.1, 0.5, 1.0],\n",
        "    \"model__gamma\": [\"scale\", \"auto\", 0.01, 0.1],\n",
        "}\n",
        "svr_cv= GridSearchCV(svr_pipe, param_grid_svr, cv=5, scoring=\"r2\", n_jobs=-1)\n",
        "svr_cv.fit(x_train, y_train)\n",
        "print(\"Best svr R²:\", svr_cv.best_score_)\n",
        "\n",
        "svr_cv_r2 = svr_cv.best_estimator_.score(x_test, y_test)\n",
        "print(\"svr Test R²:\", svr_cv_r2)"
      ]
    },
    {
      "cell_type": "markdown",
      "metadata": {
        "id": "3XSRXGdWtBc_"
      },
      "source": [
        "(further tuning didnt help)\n",
        "\n",
        "checking MAE and RMSE scores"
      ]
    },
    {
      "cell_type": "code",
      "execution_count": 34,
      "metadata": {
        "colab": {
          "base_uri": "https://localhost:8080/"
        },
        "id": "8mWbqewfhcg7",
        "outputId": "a47dbb8b-cd19-4180-ccc9-49e641607da9"
      },
      "outputs": [
        {
          "output_type": "stream",
          "name": "stdout",
          "text": [
            "SVR Test MAE: 4.219990201339019\n",
            "SVR Test RMSE: 5.14579683226807\n"
          ]
        }
      ],
      "source": [
        "y_pred_svr = svr_cv.predict(x_test)\n",
        "svr_mae = mean_absolute_error(y_test, y_pred_svr)\n",
        "print(\"SVR Test MAE:\", svr_mae)\n",
        "\n",
        "svr_rmse = np.sqrt(mean_squared_error(y_test, y_pred_svr))\n",
        "print(\"SVR Test RMSE:\", svr_rmse)"
      ]
    }
  ],
  "metadata": {
    "colab": {
      "provenance": []
    },
    "kernelspec": {
      "display_name": "Python 3",
      "name": "python3"
    },
    "language_info": {
      "name": "python"
    }
  },
  "nbformat": 4,
  "nbformat_minor": 0
}