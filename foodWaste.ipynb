{
  "nbformat": 4,
  "nbformat_minor": 0,
  "metadata": {
    "colab": {
      "provenance": []
    },
    "kernelspec": {
      "name": "python3",
      "display_name": "Python 3"
    },
    "language_info": {
      "name": "python"
    }
  },
  "cells": [
    {
      "cell_type": "code",
      "execution_count": 410,
      "metadata": {
        "id": "vbOfAyirX2hG"
      },
      "outputs": [],
      "source": [
        "import pandas as pd\n",
        "import numpy as np\n",
        "import matplotlib.pyplot as plt\n",
        "\n",
        "from sklearn.pipeline import Pipeline\n",
        "from sklearn.impute import SimpleImputer\n",
        "from sklearn.preprocessing import StandardScaler\n",
        "from sklearn.model_selection import train_test_split\n",
        "from sklearn.preprocessing import OneHotEncoder\n",
        "from sklearn.preprocessing import OrdinalEncoder\n",
        "from sklearn.compose import ColumnTransformer\n",
        "\n",
        "from sklearn.linear_model import LinearRegression\n",
        "from sklearn.ensemble import RandomForestRegressor\n",
        "from sklearn.svm import SVR\n",
        "\n",
        "from sklearn.model_selection import GridSearchCV\n",
        "from sklearn.metrics import mean_squared_error, mean_absolute_error"
      ]
    },
    {
      "cell_type": "code",
      "source": [
        "df = pd.read_csv('train.csv')\n",
        "df"
      ],
      "metadata": {
        "colab": {
          "base_uri": "https://localhost:8080/",
          "height": 424
        },
        "id": "Z2lMm2aRYEWv",
        "outputId": "3a486774-8254-4a85-8d9b-ca5689dace07"
      },
      "execution_count": 411,
      "outputs": [
        {
          "output_type": "execute_result",
          "data": {
            "text/plain": [
              "       ID        date  meals_served  kitchen_staff  temperature_C  \\\n",
              "0       0  2022-12-19           196             13      27.887273   \n",
              "1       1  2023-11-21           244             15      10.317872   \n",
              "2       4  2022-02-01           148             16      27.714300   \n",
              "3       5  2023-03-19           157             19      19.173902   \n",
              "4       6  2022-07-18           297             10      26.375233   \n",
              "..    ...         ...           ...            ...            ...   \n",
              "906  1044  2022-03-29           395             18      17.354199   \n",
              "907  1045  2022-11-27           483             11      24.912137   \n",
              "908  1046  2023-04-12           243             11      28.870945   \n",
              "909  1048  2022-02-14           406             10      19.061638   \n",
              "910  1049  2024-05-10           350              6      23.708015   \n",
              "\n",
              "     humidity_percent  day_of_week  special_event  past_waste_kg  \\\n",
              "0           45.362854            0              0       7.740587   \n",
              "1           64.430475            1              0      42.311779   \n",
              "2           69.046113            1              0      41.184305   \n",
              "3           46.292823            6              0      41.543492   \n",
              "4           79.741064            0              0      26.525097   \n",
              "..                ...          ...            ...            ...   \n",
              "906         45.138435            1              0      40.550668   \n",
              "907         59.485091            6              0      36.470276   \n",
              "908         70.508404            2              0      19.767203   \n",
              "909         55.286642            0              0      28.560361   \n",
              "910         51.351286            4              0      46.786860   \n",
              "\n",
              "    staff_experience waste_category  food_waste_kg  \n",
              "0       intermediate          dairy      28.946465  \n",
              "1                NaN           MeAt      51.549053  \n",
              "2           Beginner           MeAt      53.008323  \n",
              "3           Beginner           MeAt      48.621527  \n",
              "4       Intermediate           MEAT      44.156984  \n",
              "..               ...            ...            ...  \n",
              "906     Intermediate         GRAINS      50.369152  \n",
              "907     intermediate          dairy      43.070121  \n",
              "908     Intermediate           MeAt      29.632560  \n",
              "909           EXPERT           MEAT      44.615759  \n",
              "910     intermediate     Vegetables      57.066481  \n",
              "\n",
              "[911 rows x 12 columns]"
            ],
            "text/html": [
              "\n",
              "  <div id=\"df-27a807d5-60d2-40e1-ab82-76b902854b98\" class=\"colab-df-container\">\n",
              "    <div>\n",
              "<style scoped>\n",
              "    .dataframe tbody tr th:only-of-type {\n",
              "        vertical-align: middle;\n",
              "    }\n",
              "\n",
              "    .dataframe tbody tr th {\n",
              "        vertical-align: top;\n",
              "    }\n",
              "\n",
              "    .dataframe thead th {\n",
              "        text-align: right;\n",
              "    }\n",
              "</style>\n",
              "<table border=\"1\" class=\"dataframe\">\n",
              "  <thead>\n",
              "    <tr style=\"text-align: right;\">\n",
              "      <th></th>\n",
              "      <th>ID</th>\n",
              "      <th>date</th>\n",
              "      <th>meals_served</th>\n",
              "      <th>kitchen_staff</th>\n",
              "      <th>temperature_C</th>\n",
              "      <th>humidity_percent</th>\n",
              "      <th>day_of_week</th>\n",
              "      <th>special_event</th>\n",
              "      <th>past_waste_kg</th>\n",
              "      <th>staff_experience</th>\n",
              "      <th>waste_category</th>\n",
              "      <th>food_waste_kg</th>\n",
              "    </tr>\n",
              "  </thead>\n",
              "  <tbody>\n",
              "    <tr>\n",
              "      <th>0</th>\n",
              "      <td>0</td>\n",
              "      <td>2022-12-19</td>\n",
              "      <td>196</td>\n",
              "      <td>13</td>\n",
              "      <td>27.887273</td>\n",
              "      <td>45.362854</td>\n",
              "      <td>0</td>\n",
              "      <td>0</td>\n",
              "      <td>7.740587</td>\n",
              "      <td>intermediate</td>\n",
              "      <td>dairy</td>\n",
              "      <td>28.946465</td>\n",
              "    </tr>\n",
              "    <tr>\n",
              "      <th>1</th>\n",
              "      <td>1</td>\n",
              "      <td>2023-11-21</td>\n",
              "      <td>244</td>\n",
              "      <td>15</td>\n",
              "      <td>10.317872</td>\n",
              "      <td>64.430475</td>\n",
              "      <td>1</td>\n",
              "      <td>0</td>\n",
              "      <td>42.311779</td>\n",
              "      <td>NaN</td>\n",
              "      <td>MeAt</td>\n",
              "      <td>51.549053</td>\n",
              "    </tr>\n",
              "    <tr>\n",
              "      <th>2</th>\n",
              "      <td>4</td>\n",
              "      <td>2022-02-01</td>\n",
              "      <td>148</td>\n",
              "      <td>16</td>\n",
              "      <td>27.714300</td>\n",
              "      <td>69.046113</td>\n",
              "      <td>1</td>\n",
              "      <td>0</td>\n",
              "      <td>41.184305</td>\n",
              "      <td>Beginner</td>\n",
              "      <td>MeAt</td>\n",
              "      <td>53.008323</td>\n",
              "    </tr>\n",
              "    <tr>\n",
              "      <th>3</th>\n",
              "      <td>5</td>\n",
              "      <td>2023-03-19</td>\n",
              "      <td>157</td>\n",
              "      <td>19</td>\n",
              "      <td>19.173902</td>\n",
              "      <td>46.292823</td>\n",
              "      <td>6</td>\n",
              "      <td>0</td>\n",
              "      <td>41.543492</td>\n",
              "      <td>Beginner</td>\n",
              "      <td>MeAt</td>\n",
              "      <td>48.621527</td>\n",
              "    </tr>\n",
              "    <tr>\n",
              "      <th>4</th>\n",
              "      <td>6</td>\n",
              "      <td>2022-07-18</td>\n",
              "      <td>297</td>\n",
              "      <td>10</td>\n",
              "      <td>26.375233</td>\n",
              "      <td>79.741064</td>\n",
              "      <td>0</td>\n",
              "      <td>0</td>\n",
              "      <td>26.525097</td>\n",
              "      <td>Intermediate</td>\n",
              "      <td>MEAT</td>\n",
              "      <td>44.156984</td>\n",
              "    </tr>\n",
              "    <tr>\n",
              "      <th>...</th>\n",
              "      <td>...</td>\n",
              "      <td>...</td>\n",
              "      <td>...</td>\n",
              "      <td>...</td>\n",
              "      <td>...</td>\n",
              "      <td>...</td>\n",
              "      <td>...</td>\n",
              "      <td>...</td>\n",
              "      <td>...</td>\n",
              "      <td>...</td>\n",
              "      <td>...</td>\n",
              "      <td>...</td>\n",
              "    </tr>\n",
              "    <tr>\n",
              "      <th>906</th>\n",
              "      <td>1044</td>\n",
              "      <td>2022-03-29</td>\n",
              "      <td>395</td>\n",
              "      <td>18</td>\n",
              "      <td>17.354199</td>\n",
              "      <td>45.138435</td>\n",
              "      <td>1</td>\n",
              "      <td>0</td>\n",
              "      <td>40.550668</td>\n",
              "      <td>Intermediate</td>\n",
              "      <td>GRAINS</td>\n",
              "      <td>50.369152</td>\n",
              "    </tr>\n",
              "    <tr>\n",
              "      <th>907</th>\n",
              "      <td>1045</td>\n",
              "      <td>2022-11-27</td>\n",
              "      <td>483</td>\n",
              "      <td>11</td>\n",
              "      <td>24.912137</td>\n",
              "      <td>59.485091</td>\n",
              "      <td>6</td>\n",
              "      <td>0</td>\n",
              "      <td>36.470276</td>\n",
              "      <td>intermediate</td>\n",
              "      <td>dairy</td>\n",
              "      <td>43.070121</td>\n",
              "    </tr>\n",
              "    <tr>\n",
              "      <th>908</th>\n",
              "      <td>1046</td>\n",
              "      <td>2023-04-12</td>\n",
              "      <td>243</td>\n",
              "      <td>11</td>\n",
              "      <td>28.870945</td>\n",
              "      <td>70.508404</td>\n",
              "      <td>2</td>\n",
              "      <td>0</td>\n",
              "      <td>19.767203</td>\n",
              "      <td>Intermediate</td>\n",
              "      <td>MeAt</td>\n",
              "      <td>29.632560</td>\n",
              "    </tr>\n",
              "    <tr>\n",
              "      <th>909</th>\n",
              "      <td>1048</td>\n",
              "      <td>2022-02-14</td>\n",
              "      <td>406</td>\n",
              "      <td>10</td>\n",
              "      <td>19.061638</td>\n",
              "      <td>55.286642</td>\n",
              "      <td>0</td>\n",
              "      <td>0</td>\n",
              "      <td>28.560361</td>\n",
              "      <td>EXPERT</td>\n",
              "      <td>MEAT</td>\n",
              "      <td>44.615759</td>\n",
              "    </tr>\n",
              "    <tr>\n",
              "      <th>910</th>\n",
              "      <td>1049</td>\n",
              "      <td>2024-05-10</td>\n",
              "      <td>350</td>\n",
              "      <td>6</td>\n",
              "      <td>23.708015</td>\n",
              "      <td>51.351286</td>\n",
              "      <td>4</td>\n",
              "      <td>0</td>\n",
              "      <td>46.786860</td>\n",
              "      <td>intermediate</td>\n",
              "      <td>Vegetables</td>\n",
              "      <td>57.066481</td>\n",
              "    </tr>\n",
              "  </tbody>\n",
              "</table>\n",
              "<p>911 rows × 12 columns</p>\n",
              "</div>\n",
              "    <div class=\"colab-df-buttons\">\n",
              "\n",
              "  <div class=\"colab-df-container\">\n",
              "    <button class=\"colab-df-convert\" onclick=\"convertToInteractive('df-27a807d5-60d2-40e1-ab82-76b902854b98')\"\n",
              "            title=\"Convert this dataframe to an interactive table.\"\n",
              "            style=\"display:none;\">\n",
              "\n",
              "  <svg xmlns=\"http://www.w3.org/2000/svg\" height=\"24px\" viewBox=\"0 -960 960 960\">\n",
              "    <path d=\"M120-120v-720h720v720H120Zm60-500h600v-160H180v160Zm220 220h160v-160H400v160Zm0 220h160v-160H400v160ZM180-400h160v-160H180v160Zm440 0h160v-160H620v160ZM180-180h160v-160H180v160Zm440 0h160v-160H620v160Z\"/>\n",
              "  </svg>\n",
              "    </button>\n",
              "\n",
              "  <style>\n",
              "    .colab-df-container {\n",
              "      display:flex;\n",
              "      gap: 12px;\n",
              "    }\n",
              "\n",
              "    .colab-df-convert {\n",
              "      background-color: #E8F0FE;\n",
              "      border: none;\n",
              "      border-radius: 50%;\n",
              "      cursor: pointer;\n",
              "      display: none;\n",
              "      fill: #1967D2;\n",
              "      height: 32px;\n",
              "      padding: 0 0 0 0;\n",
              "      width: 32px;\n",
              "    }\n",
              "\n",
              "    .colab-df-convert:hover {\n",
              "      background-color: #E2EBFA;\n",
              "      box-shadow: 0px 1px 2px rgba(60, 64, 67, 0.3), 0px 1px 3px 1px rgba(60, 64, 67, 0.15);\n",
              "      fill: #174EA6;\n",
              "    }\n",
              "\n",
              "    .colab-df-buttons div {\n",
              "      margin-bottom: 4px;\n",
              "    }\n",
              "\n",
              "    [theme=dark] .colab-df-convert {\n",
              "      background-color: #3B4455;\n",
              "      fill: #D2E3FC;\n",
              "    }\n",
              "\n",
              "    [theme=dark] .colab-df-convert:hover {\n",
              "      background-color: #434B5C;\n",
              "      box-shadow: 0px 1px 3px 1px rgba(0, 0, 0, 0.15);\n",
              "      filter: drop-shadow(0px 1px 2px rgba(0, 0, 0, 0.3));\n",
              "      fill: #FFFFFF;\n",
              "    }\n",
              "  </style>\n",
              "\n",
              "    <script>\n",
              "      const buttonEl =\n",
              "        document.querySelector('#df-27a807d5-60d2-40e1-ab82-76b902854b98 button.colab-df-convert');\n",
              "      buttonEl.style.display =\n",
              "        google.colab.kernel.accessAllowed ? 'block' : 'none';\n",
              "\n",
              "      async function convertToInteractive(key) {\n",
              "        const element = document.querySelector('#df-27a807d5-60d2-40e1-ab82-76b902854b98');\n",
              "        const dataTable =\n",
              "          await google.colab.kernel.invokeFunction('convertToInteractive',\n",
              "                                                    [key], {});\n",
              "        if (!dataTable) return;\n",
              "\n",
              "        const docLinkHtml = 'Like what you see? Visit the ' +\n",
              "          '<a target=\"_blank\" href=https://colab.research.google.com/notebooks/data_table.ipynb>data table notebook</a>'\n",
              "          + ' to learn more about interactive tables.';\n",
              "        element.innerHTML = '';\n",
              "        dataTable['output_type'] = 'display_data';\n",
              "        await google.colab.output.renderOutput(dataTable, element);\n",
              "        const docLink = document.createElement('div');\n",
              "        docLink.innerHTML = docLinkHtml;\n",
              "        element.appendChild(docLink);\n",
              "      }\n",
              "    </script>\n",
              "  </div>\n",
              "\n",
              "\n",
              "    <div id=\"df-bfd564af-6a3a-48cf-a475-06b5b2fbbe57\">\n",
              "      <button class=\"colab-df-quickchart\" onclick=\"quickchart('df-bfd564af-6a3a-48cf-a475-06b5b2fbbe57')\"\n",
              "                title=\"Suggest charts\"\n",
              "                style=\"display:none;\">\n",
              "\n",
              "<svg xmlns=\"http://www.w3.org/2000/svg\" height=\"24px\"viewBox=\"0 0 24 24\"\n",
              "     width=\"24px\">\n",
              "    <g>\n",
              "        <path d=\"M19 3H5c-1.1 0-2 .9-2 2v14c0 1.1.9 2 2 2h14c1.1 0 2-.9 2-2V5c0-1.1-.9-2-2-2zM9 17H7v-7h2v7zm4 0h-2V7h2v10zm4 0h-2v-4h2v4z\"/>\n",
              "    </g>\n",
              "</svg>\n",
              "      </button>\n",
              "\n",
              "<style>\n",
              "  .colab-df-quickchart {\n",
              "      --bg-color: #E8F0FE;\n",
              "      --fill-color: #1967D2;\n",
              "      --hover-bg-color: #E2EBFA;\n",
              "      --hover-fill-color: #174EA6;\n",
              "      --disabled-fill-color: #AAA;\n",
              "      --disabled-bg-color: #DDD;\n",
              "  }\n",
              "\n",
              "  [theme=dark] .colab-df-quickchart {\n",
              "      --bg-color: #3B4455;\n",
              "      --fill-color: #D2E3FC;\n",
              "      --hover-bg-color: #434B5C;\n",
              "      --hover-fill-color: #FFFFFF;\n",
              "      --disabled-bg-color: #3B4455;\n",
              "      --disabled-fill-color: #666;\n",
              "  }\n",
              "\n",
              "  .colab-df-quickchart {\n",
              "    background-color: var(--bg-color);\n",
              "    border: none;\n",
              "    border-radius: 50%;\n",
              "    cursor: pointer;\n",
              "    display: none;\n",
              "    fill: var(--fill-color);\n",
              "    height: 32px;\n",
              "    padding: 0;\n",
              "    width: 32px;\n",
              "  }\n",
              "\n",
              "  .colab-df-quickchart:hover {\n",
              "    background-color: var(--hover-bg-color);\n",
              "    box-shadow: 0 1px 2px rgba(60, 64, 67, 0.3), 0 1px 3px 1px rgba(60, 64, 67, 0.15);\n",
              "    fill: var(--button-hover-fill-color);\n",
              "  }\n",
              "\n",
              "  .colab-df-quickchart-complete:disabled,\n",
              "  .colab-df-quickchart-complete:disabled:hover {\n",
              "    background-color: var(--disabled-bg-color);\n",
              "    fill: var(--disabled-fill-color);\n",
              "    box-shadow: none;\n",
              "  }\n",
              "\n",
              "  .colab-df-spinner {\n",
              "    border: 2px solid var(--fill-color);\n",
              "    border-color: transparent;\n",
              "    border-bottom-color: var(--fill-color);\n",
              "    animation:\n",
              "      spin 1s steps(1) infinite;\n",
              "  }\n",
              "\n",
              "  @keyframes spin {\n",
              "    0% {\n",
              "      border-color: transparent;\n",
              "      border-bottom-color: var(--fill-color);\n",
              "      border-left-color: var(--fill-color);\n",
              "    }\n",
              "    20% {\n",
              "      border-color: transparent;\n",
              "      border-left-color: var(--fill-color);\n",
              "      border-top-color: var(--fill-color);\n",
              "    }\n",
              "    30% {\n",
              "      border-color: transparent;\n",
              "      border-left-color: var(--fill-color);\n",
              "      border-top-color: var(--fill-color);\n",
              "      border-right-color: var(--fill-color);\n",
              "    }\n",
              "    40% {\n",
              "      border-color: transparent;\n",
              "      border-right-color: var(--fill-color);\n",
              "      border-top-color: var(--fill-color);\n",
              "    }\n",
              "    60% {\n",
              "      border-color: transparent;\n",
              "      border-right-color: var(--fill-color);\n",
              "    }\n",
              "    80% {\n",
              "      border-color: transparent;\n",
              "      border-right-color: var(--fill-color);\n",
              "      border-bottom-color: var(--fill-color);\n",
              "    }\n",
              "    90% {\n",
              "      border-color: transparent;\n",
              "      border-bottom-color: var(--fill-color);\n",
              "    }\n",
              "  }\n",
              "</style>\n",
              "\n",
              "      <script>\n",
              "        async function quickchart(key) {\n",
              "          const quickchartButtonEl =\n",
              "            document.querySelector('#' + key + ' button');\n",
              "          quickchartButtonEl.disabled = true;  // To prevent multiple clicks.\n",
              "          quickchartButtonEl.classList.add('colab-df-spinner');\n",
              "          try {\n",
              "            const charts = await google.colab.kernel.invokeFunction(\n",
              "                'suggestCharts', [key], {});\n",
              "          } catch (error) {\n",
              "            console.error('Error during call to suggestCharts:', error);\n",
              "          }\n",
              "          quickchartButtonEl.classList.remove('colab-df-spinner');\n",
              "          quickchartButtonEl.classList.add('colab-df-quickchart-complete');\n",
              "        }\n",
              "        (() => {\n",
              "          let quickchartButtonEl =\n",
              "            document.querySelector('#df-bfd564af-6a3a-48cf-a475-06b5b2fbbe57 button');\n",
              "          quickchartButtonEl.style.display =\n",
              "            google.colab.kernel.accessAllowed ? 'block' : 'none';\n",
              "        })();\n",
              "      </script>\n",
              "    </div>\n",
              "\n",
              "  <div id=\"id_59af37e3-6efe-4cc1-85ec-9ab2a943ab60\">\n",
              "    <style>\n",
              "      .colab-df-generate {\n",
              "        background-color: #E8F0FE;\n",
              "        border: none;\n",
              "        border-radius: 50%;\n",
              "        cursor: pointer;\n",
              "        display: none;\n",
              "        fill: #1967D2;\n",
              "        height: 32px;\n",
              "        padding: 0 0 0 0;\n",
              "        width: 32px;\n",
              "      }\n",
              "\n",
              "      .colab-df-generate:hover {\n",
              "        background-color: #E2EBFA;\n",
              "        box-shadow: 0px 1px 2px rgba(60, 64, 67, 0.3), 0px 1px 3px 1px rgba(60, 64, 67, 0.15);\n",
              "        fill: #174EA6;\n",
              "      }\n",
              "\n",
              "      [theme=dark] .colab-df-generate {\n",
              "        background-color: #3B4455;\n",
              "        fill: #D2E3FC;\n",
              "      }\n",
              "\n",
              "      [theme=dark] .colab-df-generate:hover {\n",
              "        background-color: #434B5C;\n",
              "        box-shadow: 0px 1px 3px 1px rgba(0, 0, 0, 0.15);\n",
              "        filter: drop-shadow(0px 1px 2px rgba(0, 0, 0, 0.3));\n",
              "        fill: #FFFFFF;\n",
              "      }\n",
              "    </style>\n",
              "    <button class=\"colab-df-generate\" onclick=\"generateWithVariable('df')\"\n",
              "            title=\"Generate code using this dataframe.\"\n",
              "            style=\"display:none;\">\n",
              "\n",
              "  <svg xmlns=\"http://www.w3.org/2000/svg\" height=\"24px\"viewBox=\"0 0 24 24\"\n",
              "       width=\"24px\">\n",
              "    <path d=\"M7,19H8.4L18.45,9,17,7.55,7,17.6ZM5,21V16.75L18.45,3.32a2,2,0,0,1,2.83,0l1.4,1.43a1.91,1.91,0,0,1,.58,1.4,1.91,1.91,0,0,1-.58,1.4L9.25,21ZM18.45,9,17,7.55Zm-12,3A5.31,5.31,0,0,0,4.9,8.1,5.31,5.31,0,0,0,1,6.5,5.31,5.31,0,0,0,4.9,4.9,5.31,5.31,0,0,0,6.5,1,5.31,5.31,0,0,0,8.1,4.9,5.31,5.31,0,0,0,12,6.5,5.46,5.46,0,0,0,6.5,12Z\"/>\n",
              "  </svg>\n",
              "    </button>\n",
              "    <script>\n",
              "      (() => {\n",
              "      const buttonEl =\n",
              "        document.querySelector('#id_59af37e3-6efe-4cc1-85ec-9ab2a943ab60 button.colab-df-generate');\n",
              "      buttonEl.style.display =\n",
              "        google.colab.kernel.accessAllowed ? 'block' : 'none';\n",
              "\n",
              "      buttonEl.onclick = () => {\n",
              "        google.colab.notebook.generateWithVariable('df');\n",
              "      }\n",
              "      })();\n",
              "    </script>\n",
              "  </div>\n",
              "\n",
              "    </div>\n",
              "  </div>\n"
            ],
            "application/vnd.google.colaboratory.intrinsic+json": {
              "type": "dataframe",
              "variable_name": "df",
              "summary": "{\n  \"name\": \"df\",\n  \"rows\": 911,\n  \"fields\": [\n    {\n      \"column\": \"ID\",\n      \"properties\": {\n        \"dtype\": \"number\",\n        \"std\": 305,\n        \"min\": 0,\n        \"max\": 1049,\n        \"num_unique_values\": 911,\n        \"samples\": [\n          818,\n          881,\n          629\n        ],\n        \"semantic_type\": \"\",\n        \"description\": \"\"\n      }\n    },\n    {\n      \"column\": \"date\",\n      \"properties\": {\n        \"dtype\": \"object\",\n        \"num_unique_values\": 867,\n        \"samples\": [\n          \"2023-12-24\",\n          \"2022-10-13\",\n          \"2024-04-14\"\n        ],\n        \"semantic_type\": \"\",\n        \"description\": \"\"\n      }\n    },\n    {\n      \"column\": \"meals_served\",\n      \"properties\": {\n        \"dtype\": \"number\",\n        \"std\": 502,\n        \"min\": 100,\n        \"max\": 4730,\n        \"num_unique_values\": 373,\n        \"samples\": [\n          2830,\n          174,\n          265\n        ],\n        \"semantic_type\": \"\",\n        \"description\": \"\"\n      }\n    },\n    {\n      \"column\": \"kitchen_staff\",\n      \"properties\": {\n        \"dtype\": \"number\",\n        \"std\": 4,\n        \"min\": 5,\n        \"max\": 19,\n        \"num_unique_values\": 15,\n        \"samples\": [\n          8,\n          11,\n          13\n        ],\n        \"semantic_type\": \"\",\n        \"description\": \"\"\n      }\n    },\n    {\n      \"column\": \"temperature_C\",\n      \"properties\": {\n        \"dtype\": \"number\",\n        \"std\": 8.922389375372326,\n        \"min\": -10.372206511742178,\n        \"max\": 60.0,\n        \"num_unique_values\": 892,\n        \"samples\": [\n          34.70688177500328,\n          30.579350389891506,\n          20.099446908163703\n        ],\n        \"semantic_type\": \"\",\n        \"description\": \"\"\n      }\n    },\n    {\n      \"column\": \"humidity_percent\",\n      \"properties\": {\n        \"dtype\": \"number\",\n        \"std\": 17.33082119443006,\n        \"min\": 30.121111064894038,\n        \"max\": 89.98282824935484,\n        \"num_unique_values\": 867,\n        \"samples\": [\n          31.968577447716505,\n          51.371138827055645,\n          43.603642939797794\n        ],\n        \"semantic_type\": \"\",\n        \"description\": \"\"\n      }\n    },\n    {\n      \"column\": \"day_of_week\",\n      \"properties\": {\n        \"dtype\": \"number\",\n        \"std\": 2,\n        \"min\": 0,\n        \"max\": 6,\n        \"num_unique_values\": 7,\n        \"samples\": [\n          0,\n          1,\n          4\n        ],\n        \"semantic_type\": \"\",\n        \"description\": \"\"\n      }\n    },\n    {\n      \"column\": \"special_event\",\n      \"properties\": {\n        \"dtype\": \"number\",\n        \"std\": 0,\n        \"min\": 0,\n        \"max\": 1,\n        \"num_unique_values\": 2,\n        \"samples\": [\n          1,\n          0\n        ],\n        \"semantic_type\": \"\",\n        \"description\": \"\"\n      }\n    },\n    {\n      \"column\": \"past_waste_kg\",\n      \"properties\": {\n        \"dtype\": \"number\",\n        \"std\": 12.774222512568702,\n        \"min\": 5.0083937676798405,\n        \"max\": 49.803702511766375,\n        \"num_unique_values\": 867,\n        \"samples\": [\n          26.208872355835453,\n          38.28573039933987\n        ],\n        \"semantic_type\": \"\",\n        \"description\": \"\"\n      }\n    },\n    {\n      \"column\": \"staff_experience\",\n      \"properties\": {\n        \"dtype\": \"category\",\n        \"num_unique_values\": 4,\n        \"samples\": [\n          \"Beginner\",\n          \"EXPERT\"\n        ],\n        \"semantic_type\": \"\",\n        \"description\": \"\"\n      }\n    },\n    {\n      \"column\": \"waste_category\",\n      \"properties\": {\n        \"dtype\": \"category\",\n        \"num_unique_values\": 5,\n        \"samples\": [\n          \"MeAt\",\n          \"GRAINS\"\n        ],\n        \"semantic_type\": \"\",\n        \"description\": \"\"\n      }\n    },\n    {\n      \"column\": \"food_waste_kg\",\n      \"properties\": {\n        \"dtype\": \"number\",\n        \"std\": 27.93436623705769,\n        \"min\": 10.819047907328834,\n        \"max\": 274.32878295005906,\n        \"num_unique_values\": 867,\n        \"samples\": [\n          251.5389324680473,\n          40.61710993168761\n        ],\n        \"semantic_type\": \"\",\n        \"description\": \"\"\n      }\n    }\n  ]\n}"
            }
          },
          "metadata": {},
          "execution_count": 411
        }
      ]
    },
    {
      "cell_type": "markdown",
      "source": [
        "**dropping unnecessary columns**"
      ],
      "metadata": {
        "id": "8HFAFesu140Q"
      }
    },
    {
      "cell_type": "code",
      "source": [
        "df = df.drop([\"ID\", \"date\"], axis=1)\n",
        "df"
      ],
      "metadata": {
        "colab": {
          "base_uri": "https://localhost:8080/",
          "height": 424
        },
        "id": "9oEaOyLJYKee",
        "outputId": "64aa11c6-6aad-41ff-8beb-9fbd3b450c94"
      },
      "execution_count": 412,
      "outputs": [
        {
          "output_type": "execute_result",
          "data": {
            "text/plain": [
              "     meals_served  kitchen_staff  temperature_C  humidity_percent  \\\n",
              "0             196             13      27.887273         45.362854   \n",
              "1             244             15      10.317872         64.430475   \n",
              "2             148             16      27.714300         69.046113   \n",
              "3             157             19      19.173902         46.292823   \n",
              "4             297             10      26.375233         79.741064   \n",
              "..            ...            ...            ...               ...   \n",
              "906           395             18      17.354199         45.138435   \n",
              "907           483             11      24.912137         59.485091   \n",
              "908           243             11      28.870945         70.508404   \n",
              "909           406             10      19.061638         55.286642   \n",
              "910           350              6      23.708015         51.351286   \n",
              "\n",
              "     day_of_week  special_event  past_waste_kg staff_experience  \\\n",
              "0              0              0       7.740587     intermediate   \n",
              "1              1              0      42.311779              NaN   \n",
              "2              1              0      41.184305         Beginner   \n",
              "3              6              0      41.543492         Beginner   \n",
              "4              0              0      26.525097     Intermediate   \n",
              "..           ...            ...            ...              ...   \n",
              "906            1              0      40.550668     Intermediate   \n",
              "907            6              0      36.470276     intermediate   \n",
              "908            2              0      19.767203     Intermediate   \n",
              "909            0              0      28.560361           EXPERT   \n",
              "910            4              0      46.786860     intermediate   \n",
              "\n",
              "    waste_category  food_waste_kg  \n",
              "0            dairy      28.946465  \n",
              "1             MeAt      51.549053  \n",
              "2             MeAt      53.008323  \n",
              "3             MeAt      48.621527  \n",
              "4             MEAT      44.156984  \n",
              "..             ...            ...  \n",
              "906         GRAINS      50.369152  \n",
              "907          dairy      43.070121  \n",
              "908           MeAt      29.632560  \n",
              "909           MEAT      44.615759  \n",
              "910     Vegetables      57.066481  \n",
              "\n",
              "[911 rows x 10 columns]"
            ],
            "text/html": [
              "\n",
              "  <div id=\"df-3635d88b-de41-4071-9b8d-6c093a4ff9b3\" class=\"colab-df-container\">\n",
              "    <div>\n",
              "<style scoped>\n",
              "    .dataframe tbody tr th:only-of-type {\n",
              "        vertical-align: middle;\n",
              "    }\n",
              "\n",
              "    .dataframe tbody tr th {\n",
              "        vertical-align: top;\n",
              "    }\n",
              "\n",
              "    .dataframe thead th {\n",
              "        text-align: right;\n",
              "    }\n",
              "</style>\n",
              "<table border=\"1\" class=\"dataframe\">\n",
              "  <thead>\n",
              "    <tr style=\"text-align: right;\">\n",
              "      <th></th>\n",
              "      <th>meals_served</th>\n",
              "      <th>kitchen_staff</th>\n",
              "      <th>temperature_C</th>\n",
              "      <th>humidity_percent</th>\n",
              "      <th>day_of_week</th>\n",
              "      <th>special_event</th>\n",
              "      <th>past_waste_kg</th>\n",
              "      <th>staff_experience</th>\n",
              "      <th>waste_category</th>\n",
              "      <th>food_waste_kg</th>\n",
              "    </tr>\n",
              "  </thead>\n",
              "  <tbody>\n",
              "    <tr>\n",
              "      <th>0</th>\n",
              "      <td>196</td>\n",
              "      <td>13</td>\n",
              "      <td>27.887273</td>\n",
              "      <td>45.362854</td>\n",
              "      <td>0</td>\n",
              "      <td>0</td>\n",
              "      <td>7.740587</td>\n",
              "      <td>intermediate</td>\n",
              "      <td>dairy</td>\n",
              "      <td>28.946465</td>\n",
              "    </tr>\n",
              "    <tr>\n",
              "      <th>1</th>\n",
              "      <td>244</td>\n",
              "      <td>15</td>\n",
              "      <td>10.317872</td>\n",
              "      <td>64.430475</td>\n",
              "      <td>1</td>\n",
              "      <td>0</td>\n",
              "      <td>42.311779</td>\n",
              "      <td>NaN</td>\n",
              "      <td>MeAt</td>\n",
              "      <td>51.549053</td>\n",
              "    </tr>\n",
              "    <tr>\n",
              "      <th>2</th>\n",
              "      <td>148</td>\n",
              "      <td>16</td>\n",
              "      <td>27.714300</td>\n",
              "      <td>69.046113</td>\n",
              "      <td>1</td>\n",
              "      <td>0</td>\n",
              "      <td>41.184305</td>\n",
              "      <td>Beginner</td>\n",
              "      <td>MeAt</td>\n",
              "      <td>53.008323</td>\n",
              "    </tr>\n",
              "    <tr>\n",
              "      <th>3</th>\n",
              "      <td>157</td>\n",
              "      <td>19</td>\n",
              "      <td>19.173902</td>\n",
              "      <td>46.292823</td>\n",
              "      <td>6</td>\n",
              "      <td>0</td>\n",
              "      <td>41.543492</td>\n",
              "      <td>Beginner</td>\n",
              "      <td>MeAt</td>\n",
              "      <td>48.621527</td>\n",
              "    </tr>\n",
              "    <tr>\n",
              "      <th>4</th>\n",
              "      <td>297</td>\n",
              "      <td>10</td>\n",
              "      <td>26.375233</td>\n",
              "      <td>79.741064</td>\n",
              "      <td>0</td>\n",
              "      <td>0</td>\n",
              "      <td>26.525097</td>\n",
              "      <td>Intermediate</td>\n",
              "      <td>MEAT</td>\n",
              "      <td>44.156984</td>\n",
              "    </tr>\n",
              "    <tr>\n",
              "      <th>...</th>\n",
              "      <td>...</td>\n",
              "      <td>...</td>\n",
              "      <td>...</td>\n",
              "      <td>...</td>\n",
              "      <td>...</td>\n",
              "      <td>...</td>\n",
              "      <td>...</td>\n",
              "      <td>...</td>\n",
              "      <td>...</td>\n",
              "      <td>...</td>\n",
              "    </tr>\n",
              "    <tr>\n",
              "      <th>906</th>\n",
              "      <td>395</td>\n",
              "      <td>18</td>\n",
              "      <td>17.354199</td>\n",
              "      <td>45.138435</td>\n",
              "      <td>1</td>\n",
              "      <td>0</td>\n",
              "      <td>40.550668</td>\n",
              "      <td>Intermediate</td>\n",
              "      <td>GRAINS</td>\n",
              "      <td>50.369152</td>\n",
              "    </tr>\n",
              "    <tr>\n",
              "      <th>907</th>\n",
              "      <td>483</td>\n",
              "      <td>11</td>\n",
              "      <td>24.912137</td>\n",
              "      <td>59.485091</td>\n",
              "      <td>6</td>\n",
              "      <td>0</td>\n",
              "      <td>36.470276</td>\n",
              "      <td>intermediate</td>\n",
              "      <td>dairy</td>\n",
              "      <td>43.070121</td>\n",
              "    </tr>\n",
              "    <tr>\n",
              "      <th>908</th>\n",
              "      <td>243</td>\n",
              "      <td>11</td>\n",
              "      <td>28.870945</td>\n",
              "      <td>70.508404</td>\n",
              "      <td>2</td>\n",
              "      <td>0</td>\n",
              "      <td>19.767203</td>\n",
              "      <td>Intermediate</td>\n",
              "      <td>MeAt</td>\n",
              "      <td>29.632560</td>\n",
              "    </tr>\n",
              "    <tr>\n",
              "      <th>909</th>\n",
              "      <td>406</td>\n",
              "      <td>10</td>\n",
              "      <td>19.061638</td>\n",
              "      <td>55.286642</td>\n",
              "      <td>0</td>\n",
              "      <td>0</td>\n",
              "      <td>28.560361</td>\n",
              "      <td>EXPERT</td>\n",
              "      <td>MEAT</td>\n",
              "      <td>44.615759</td>\n",
              "    </tr>\n",
              "    <tr>\n",
              "      <th>910</th>\n",
              "      <td>350</td>\n",
              "      <td>6</td>\n",
              "      <td>23.708015</td>\n",
              "      <td>51.351286</td>\n",
              "      <td>4</td>\n",
              "      <td>0</td>\n",
              "      <td>46.786860</td>\n",
              "      <td>intermediate</td>\n",
              "      <td>Vegetables</td>\n",
              "      <td>57.066481</td>\n",
              "    </tr>\n",
              "  </tbody>\n",
              "</table>\n",
              "<p>911 rows × 10 columns</p>\n",
              "</div>\n",
              "    <div class=\"colab-df-buttons\">\n",
              "\n",
              "  <div class=\"colab-df-container\">\n",
              "    <button class=\"colab-df-convert\" onclick=\"convertToInteractive('df-3635d88b-de41-4071-9b8d-6c093a4ff9b3')\"\n",
              "            title=\"Convert this dataframe to an interactive table.\"\n",
              "            style=\"display:none;\">\n",
              "\n",
              "  <svg xmlns=\"http://www.w3.org/2000/svg\" height=\"24px\" viewBox=\"0 -960 960 960\">\n",
              "    <path d=\"M120-120v-720h720v720H120Zm60-500h600v-160H180v160Zm220 220h160v-160H400v160Zm0 220h160v-160H400v160ZM180-400h160v-160H180v160Zm440 0h160v-160H620v160ZM180-180h160v-160H180v160Zm440 0h160v-160H620v160Z\"/>\n",
              "  </svg>\n",
              "    </button>\n",
              "\n",
              "  <style>\n",
              "    .colab-df-container {\n",
              "      display:flex;\n",
              "      gap: 12px;\n",
              "    }\n",
              "\n",
              "    .colab-df-convert {\n",
              "      background-color: #E8F0FE;\n",
              "      border: none;\n",
              "      border-radius: 50%;\n",
              "      cursor: pointer;\n",
              "      display: none;\n",
              "      fill: #1967D2;\n",
              "      height: 32px;\n",
              "      padding: 0 0 0 0;\n",
              "      width: 32px;\n",
              "    }\n",
              "\n",
              "    .colab-df-convert:hover {\n",
              "      background-color: #E2EBFA;\n",
              "      box-shadow: 0px 1px 2px rgba(60, 64, 67, 0.3), 0px 1px 3px 1px rgba(60, 64, 67, 0.15);\n",
              "      fill: #174EA6;\n",
              "    }\n",
              "\n",
              "    .colab-df-buttons div {\n",
              "      margin-bottom: 4px;\n",
              "    }\n",
              "\n",
              "    [theme=dark] .colab-df-convert {\n",
              "      background-color: #3B4455;\n",
              "      fill: #D2E3FC;\n",
              "    }\n",
              "\n",
              "    [theme=dark] .colab-df-convert:hover {\n",
              "      background-color: #434B5C;\n",
              "      box-shadow: 0px 1px 3px 1px rgba(0, 0, 0, 0.15);\n",
              "      filter: drop-shadow(0px 1px 2px rgba(0, 0, 0, 0.3));\n",
              "      fill: #FFFFFF;\n",
              "    }\n",
              "  </style>\n",
              "\n",
              "    <script>\n",
              "      const buttonEl =\n",
              "        document.querySelector('#df-3635d88b-de41-4071-9b8d-6c093a4ff9b3 button.colab-df-convert');\n",
              "      buttonEl.style.display =\n",
              "        google.colab.kernel.accessAllowed ? 'block' : 'none';\n",
              "\n",
              "      async function convertToInteractive(key) {\n",
              "        const element = document.querySelector('#df-3635d88b-de41-4071-9b8d-6c093a4ff9b3');\n",
              "        const dataTable =\n",
              "          await google.colab.kernel.invokeFunction('convertToInteractive',\n",
              "                                                    [key], {});\n",
              "        if (!dataTable) return;\n",
              "\n",
              "        const docLinkHtml = 'Like what you see? Visit the ' +\n",
              "          '<a target=\"_blank\" href=https://colab.research.google.com/notebooks/data_table.ipynb>data table notebook</a>'\n",
              "          + ' to learn more about interactive tables.';\n",
              "        element.innerHTML = '';\n",
              "        dataTable['output_type'] = 'display_data';\n",
              "        await google.colab.output.renderOutput(dataTable, element);\n",
              "        const docLink = document.createElement('div');\n",
              "        docLink.innerHTML = docLinkHtml;\n",
              "        element.appendChild(docLink);\n",
              "      }\n",
              "    </script>\n",
              "  </div>\n",
              "\n",
              "\n",
              "    <div id=\"df-4657f727-94c9-4416-a3ce-faa7e28532a8\">\n",
              "      <button class=\"colab-df-quickchart\" onclick=\"quickchart('df-4657f727-94c9-4416-a3ce-faa7e28532a8')\"\n",
              "                title=\"Suggest charts\"\n",
              "                style=\"display:none;\">\n",
              "\n",
              "<svg xmlns=\"http://www.w3.org/2000/svg\" height=\"24px\"viewBox=\"0 0 24 24\"\n",
              "     width=\"24px\">\n",
              "    <g>\n",
              "        <path d=\"M19 3H5c-1.1 0-2 .9-2 2v14c0 1.1.9 2 2 2h14c1.1 0 2-.9 2-2V5c0-1.1-.9-2-2-2zM9 17H7v-7h2v7zm4 0h-2V7h2v10zm4 0h-2v-4h2v4z\"/>\n",
              "    </g>\n",
              "</svg>\n",
              "      </button>\n",
              "\n",
              "<style>\n",
              "  .colab-df-quickchart {\n",
              "      --bg-color: #E8F0FE;\n",
              "      --fill-color: #1967D2;\n",
              "      --hover-bg-color: #E2EBFA;\n",
              "      --hover-fill-color: #174EA6;\n",
              "      --disabled-fill-color: #AAA;\n",
              "      --disabled-bg-color: #DDD;\n",
              "  }\n",
              "\n",
              "  [theme=dark] .colab-df-quickchart {\n",
              "      --bg-color: #3B4455;\n",
              "      --fill-color: #D2E3FC;\n",
              "      --hover-bg-color: #434B5C;\n",
              "      --hover-fill-color: #FFFFFF;\n",
              "      --disabled-bg-color: #3B4455;\n",
              "      --disabled-fill-color: #666;\n",
              "  }\n",
              "\n",
              "  .colab-df-quickchart {\n",
              "    background-color: var(--bg-color);\n",
              "    border: none;\n",
              "    border-radius: 50%;\n",
              "    cursor: pointer;\n",
              "    display: none;\n",
              "    fill: var(--fill-color);\n",
              "    height: 32px;\n",
              "    padding: 0;\n",
              "    width: 32px;\n",
              "  }\n",
              "\n",
              "  .colab-df-quickchart:hover {\n",
              "    background-color: var(--hover-bg-color);\n",
              "    box-shadow: 0 1px 2px rgba(60, 64, 67, 0.3), 0 1px 3px 1px rgba(60, 64, 67, 0.15);\n",
              "    fill: var(--button-hover-fill-color);\n",
              "  }\n",
              "\n",
              "  .colab-df-quickchart-complete:disabled,\n",
              "  .colab-df-quickchart-complete:disabled:hover {\n",
              "    background-color: var(--disabled-bg-color);\n",
              "    fill: var(--disabled-fill-color);\n",
              "    box-shadow: none;\n",
              "  }\n",
              "\n",
              "  .colab-df-spinner {\n",
              "    border: 2px solid var(--fill-color);\n",
              "    border-color: transparent;\n",
              "    border-bottom-color: var(--fill-color);\n",
              "    animation:\n",
              "      spin 1s steps(1) infinite;\n",
              "  }\n",
              "\n",
              "  @keyframes spin {\n",
              "    0% {\n",
              "      border-color: transparent;\n",
              "      border-bottom-color: var(--fill-color);\n",
              "      border-left-color: var(--fill-color);\n",
              "    }\n",
              "    20% {\n",
              "      border-color: transparent;\n",
              "      border-left-color: var(--fill-color);\n",
              "      border-top-color: var(--fill-color);\n",
              "    }\n",
              "    30% {\n",
              "      border-color: transparent;\n",
              "      border-left-color: var(--fill-color);\n",
              "      border-top-color: var(--fill-color);\n",
              "      border-right-color: var(--fill-color);\n",
              "    }\n",
              "    40% {\n",
              "      border-color: transparent;\n",
              "      border-right-color: var(--fill-color);\n",
              "      border-top-color: var(--fill-color);\n",
              "    }\n",
              "    60% {\n",
              "      border-color: transparent;\n",
              "      border-right-color: var(--fill-color);\n",
              "    }\n",
              "    80% {\n",
              "      border-color: transparent;\n",
              "      border-right-color: var(--fill-color);\n",
              "      border-bottom-color: var(--fill-color);\n",
              "    }\n",
              "    90% {\n",
              "      border-color: transparent;\n",
              "      border-bottom-color: var(--fill-color);\n",
              "    }\n",
              "  }\n",
              "</style>\n",
              "\n",
              "      <script>\n",
              "        async function quickchart(key) {\n",
              "          const quickchartButtonEl =\n",
              "            document.querySelector('#' + key + ' button');\n",
              "          quickchartButtonEl.disabled = true;  // To prevent multiple clicks.\n",
              "          quickchartButtonEl.classList.add('colab-df-spinner');\n",
              "          try {\n",
              "            const charts = await google.colab.kernel.invokeFunction(\n",
              "                'suggestCharts', [key], {});\n",
              "          } catch (error) {\n",
              "            console.error('Error during call to suggestCharts:', error);\n",
              "          }\n",
              "          quickchartButtonEl.classList.remove('colab-df-spinner');\n",
              "          quickchartButtonEl.classList.add('colab-df-quickchart-complete');\n",
              "        }\n",
              "        (() => {\n",
              "          let quickchartButtonEl =\n",
              "            document.querySelector('#df-4657f727-94c9-4416-a3ce-faa7e28532a8 button');\n",
              "          quickchartButtonEl.style.display =\n",
              "            google.colab.kernel.accessAllowed ? 'block' : 'none';\n",
              "        })();\n",
              "      </script>\n",
              "    </div>\n",
              "\n",
              "  <div id=\"id_a009cd04-1085-45c8-b469-268f746a7ec5\">\n",
              "    <style>\n",
              "      .colab-df-generate {\n",
              "        background-color: #E8F0FE;\n",
              "        border: none;\n",
              "        border-radius: 50%;\n",
              "        cursor: pointer;\n",
              "        display: none;\n",
              "        fill: #1967D2;\n",
              "        height: 32px;\n",
              "        padding: 0 0 0 0;\n",
              "        width: 32px;\n",
              "      }\n",
              "\n",
              "      .colab-df-generate:hover {\n",
              "        background-color: #E2EBFA;\n",
              "        box-shadow: 0px 1px 2px rgba(60, 64, 67, 0.3), 0px 1px 3px 1px rgba(60, 64, 67, 0.15);\n",
              "        fill: #174EA6;\n",
              "      }\n",
              "\n",
              "      [theme=dark] .colab-df-generate {\n",
              "        background-color: #3B4455;\n",
              "        fill: #D2E3FC;\n",
              "      }\n",
              "\n",
              "      [theme=dark] .colab-df-generate:hover {\n",
              "        background-color: #434B5C;\n",
              "        box-shadow: 0px 1px 3px 1px rgba(0, 0, 0, 0.15);\n",
              "        filter: drop-shadow(0px 1px 2px rgba(0, 0, 0, 0.3));\n",
              "        fill: #FFFFFF;\n",
              "      }\n",
              "    </style>\n",
              "    <button class=\"colab-df-generate\" onclick=\"generateWithVariable('df')\"\n",
              "            title=\"Generate code using this dataframe.\"\n",
              "            style=\"display:none;\">\n",
              "\n",
              "  <svg xmlns=\"http://www.w3.org/2000/svg\" height=\"24px\"viewBox=\"0 0 24 24\"\n",
              "       width=\"24px\">\n",
              "    <path d=\"M7,19H8.4L18.45,9,17,7.55,7,17.6ZM5,21V16.75L18.45,3.32a2,2,0,0,1,2.83,0l1.4,1.43a1.91,1.91,0,0,1,.58,1.4,1.91,1.91,0,0,1-.58,1.4L9.25,21ZM18.45,9,17,7.55Zm-12,3A5.31,5.31,0,0,0,4.9,8.1,5.31,5.31,0,0,0,1,6.5,5.31,5.31,0,0,0,4.9,4.9,5.31,5.31,0,0,0,6.5,1,5.31,5.31,0,0,0,8.1,4.9,5.31,5.31,0,0,0,12,6.5,5.46,5.46,0,0,0,6.5,12Z\"/>\n",
              "  </svg>\n",
              "    </button>\n",
              "    <script>\n",
              "      (() => {\n",
              "      const buttonEl =\n",
              "        document.querySelector('#id_a009cd04-1085-45c8-b469-268f746a7ec5 button.colab-df-generate');\n",
              "      buttonEl.style.display =\n",
              "        google.colab.kernel.accessAllowed ? 'block' : 'none';\n",
              "\n",
              "      buttonEl.onclick = () => {\n",
              "        google.colab.notebook.generateWithVariable('df');\n",
              "      }\n",
              "      })();\n",
              "    </script>\n",
              "  </div>\n",
              "\n",
              "    </div>\n",
              "  </div>\n"
            ],
            "application/vnd.google.colaboratory.intrinsic+json": {
              "type": "dataframe",
              "variable_name": "df",
              "summary": "{\n  \"name\": \"df\",\n  \"rows\": 911,\n  \"fields\": [\n    {\n      \"column\": \"meals_served\",\n      \"properties\": {\n        \"dtype\": \"number\",\n        \"std\": 502,\n        \"min\": 100,\n        \"max\": 4730,\n        \"num_unique_values\": 373,\n        \"samples\": [\n          2830,\n          174,\n          265\n        ],\n        \"semantic_type\": \"\",\n        \"description\": \"\"\n      }\n    },\n    {\n      \"column\": \"kitchen_staff\",\n      \"properties\": {\n        \"dtype\": \"number\",\n        \"std\": 4,\n        \"min\": 5,\n        \"max\": 19,\n        \"num_unique_values\": 15,\n        \"samples\": [\n          8,\n          11,\n          13\n        ],\n        \"semantic_type\": \"\",\n        \"description\": \"\"\n      }\n    },\n    {\n      \"column\": \"temperature_C\",\n      \"properties\": {\n        \"dtype\": \"number\",\n        \"std\": 8.922389375372326,\n        \"min\": -10.372206511742178,\n        \"max\": 60.0,\n        \"num_unique_values\": 892,\n        \"samples\": [\n          34.70688177500328,\n          30.579350389891506,\n          20.099446908163703\n        ],\n        \"semantic_type\": \"\",\n        \"description\": \"\"\n      }\n    },\n    {\n      \"column\": \"humidity_percent\",\n      \"properties\": {\n        \"dtype\": \"number\",\n        \"std\": 17.33082119443006,\n        \"min\": 30.121111064894038,\n        \"max\": 89.98282824935484,\n        \"num_unique_values\": 867,\n        \"samples\": [\n          31.968577447716505,\n          51.371138827055645,\n          43.603642939797794\n        ],\n        \"semantic_type\": \"\",\n        \"description\": \"\"\n      }\n    },\n    {\n      \"column\": \"day_of_week\",\n      \"properties\": {\n        \"dtype\": \"number\",\n        \"std\": 2,\n        \"min\": 0,\n        \"max\": 6,\n        \"num_unique_values\": 7,\n        \"samples\": [\n          0,\n          1,\n          4\n        ],\n        \"semantic_type\": \"\",\n        \"description\": \"\"\n      }\n    },\n    {\n      \"column\": \"special_event\",\n      \"properties\": {\n        \"dtype\": \"number\",\n        \"std\": 0,\n        \"min\": 0,\n        \"max\": 1,\n        \"num_unique_values\": 2,\n        \"samples\": [\n          1,\n          0\n        ],\n        \"semantic_type\": \"\",\n        \"description\": \"\"\n      }\n    },\n    {\n      \"column\": \"past_waste_kg\",\n      \"properties\": {\n        \"dtype\": \"number\",\n        \"std\": 12.774222512568702,\n        \"min\": 5.0083937676798405,\n        \"max\": 49.803702511766375,\n        \"num_unique_values\": 867,\n        \"samples\": [\n          26.208872355835453,\n          38.28573039933987\n        ],\n        \"semantic_type\": \"\",\n        \"description\": \"\"\n      }\n    },\n    {\n      \"column\": \"staff_experience\",\n      \"properties\": {\n        \"dtype\": \"category\",\n        \"num_unique_values\": 4,\n        \"samples\": [\n          \"Beginner\",\n          \"EXPERT\"\n        ],\n        \"semantic_type\": \"\",\n        \"description\": \"\"\n      }\n    },\n    {\n      \"column\": \"waste_category\",\n      \"properties\": {\n        \"dtype\": \"category\",\n        \"num_unique_values\": 5,\n        \"samples\": [\n          \"MeAt\",\n          \"GRAINS\"\n        ],\n        \"semantic_type\": \"\",\n        \"description\": \"\"\n      }\n    },\n    {\n      \"column\": \"food_waste_kg\",\n      \"properties\": {\n        \"dtype\": \"number\",\n        \"std\": 27.93436623705769,\n        \"min\": 10.819047907328834,\n        \"max\": 274.32878295005906,\n        \"num_unique_values\": 867,\n        \"samples\": [\n          251.5389324680473,\n          40.61710993168761\n        ],\n        \"semantic_type\": \"\",\n        \"description\": \"\"\n      }\n    }\n  ]\n}"
            }
          },
          "metadata": {},
          "execution_count": 412
        }
      ]
    },
    {
      "cell_type": "markdown",
      "source": [
        "#Data Exploration"
      ],
      "metadata": {
        "id": "6rurCwhjbOGf"
      }
    },
    {
      "cell_type": "code",
      "source": [
        "print(df.isna().sum())\n",
        "print(df.dtypes)"
      ],
      "metadata": {
        "colab": {
          "base_uri": "https://localhost:8080/"
        },
        "id": "Z4pJh7QyaK1s",
        "outputId": "b8c087d8-3c2d-467b-e1d5-bcf7edeae596"
      },
      "execution_count": 413,
      "outputs": [
        {
          "output_type": "stream",
          "name": "stdout",
          "text": [
            "meals_served          0\n",
            "kitchen_staff         0\n",
            "temperature_C         0\n",
            "humidity_percent      0\n",
            "day_of_week           0\n",
            "special_event         0\n",
            "past_waste_kg         0\n",
            "staff_experience    164\n",
            "waste_category        0\n",
            "food_waste_kg         0\n",
            "dtype: int64\n",
            "meals_served          int64\n",
            "kitchen_staff         int64\n",
            "temperature_C       float64\n",
            "humidity_percent    float64\n",
            "day_of_week           int64\n",
            "special_event         int64\n",
            "past_waste_kg       float64\n",
            "staff_experience     object\n",
            "waste_category       object\n",
            "food_waste_kg       float64\n",
            "dtype: object\n"
          ]
        }
      ]
    },
    {
      "cell_type": "code",
      "source": [
        "df.describe()"
      ],
      "metadata": {
        "colab": {
          "base_uri": "https://localhost:8080/",
          "height": 300
        },
        "id": "8Jiax9mea27b",
        "outputId": "2af1f720-e6ba-41dc-f569-edaa6e104d71"
      },
      "execution_count": 414,
      "outputs": [
        {
          "output_type": "execute_result",
          "data": {
            "text/plain": [
              "       meals_served  kitchen_staff  temperature_C  humidity_percent  \\\n",
              "count    911.000000     911.000000     911.000000        911.000000   \n",
              "mean     375.405049      11.900110      22.189280         60.761313   \n",
              "std      502.812717       4.285153       8.922389         17.330821   \n",
              "min      100.000000       5.000000     -10.372207         30.121111   \n",
              "25%      211.000000       8.000000      15.684585         46.017835   \n",
              "50%      306.000000      12.000000      22.115040         61.633960   \n",
              "75%      407.000000      15.000000      28.804294         75.787910   \n",
              "max     4730.000000      19.000000      60.000000         89.982828   \n",
              "\n",
              "       day_of_week  special_event  past_waste_kg  food_waste_kg  \n",
              "count   911.000000     911.000000     911.000000     911.000000  \n",
              "mean      3.014270       0.085620      27.015691      44.842691  \n",
              "std       2.009542       0.279956      12.774223      27.934366  \n",
              "min       0.000000       0.000000       5.008394      10.819048  \n",
              "25%       1.000000       0.000000      16.091383      32.887912  \n",
              "50%       3.000000       0.000000      26.854109      41.146930  \n",
              "75%       5.000000       0.000000      38.149878      50.046681  \n",
              "max       6.000000       1.000000      49.803703     274.328783  "
            ],
            "text/html": [
              "\n",
              "  <div id=\"df-0dc1f5ae-9ac4-4bdf-8299-bce4c2071b20\" class=\"colab-df-container\">\n",
              "    <div>\n",
              "<style scoped>\n",
              "    .dataframe tbody tr th:only-of-type {\n",
              "        vertical-align: middle;\n",
              "    }\n",
              "\n",
              "    .dataframe tbody tr th {\n",
              "        vertical-align: top;\n",
              "    }\n",
              "\n",
              "    .dataframe thead th {\n",
              "        text-align: right;\n",
              "    }\n",
              "</style>\n",
              "<table border=\"1\" class=\"dataframe\">\n",
              "  <thead>\n",
              "    <tr style=\"text-align: right;\">\n",
              "      <th></th>\n",
              "      <th>meals_served</th>\n",
              "      <th>kitchen_staff</th>\n",
              "      <th>temperature_C</th>\n",
              "      <th>humidity_percent</th>\n",
              "      <th>day_of_week</th>\n",
              "      <th>special_event</th>\n",
              "      <th>past_waste_kg</th>\n",
              "      <th>food_waste_kg</th>\n",
              "    </tr>\n",
              "  </thead>\n",
              "  <tbody>\n",
              "    <tr>\n",
              "      <th>count</th>\n",
              "      <td>911.000000</td>\n",
              "      <td>911.000000</td>\n",
              "      <td>911.000000</td>\n",
              "      <td>911.000000</td>\n",
              "      <td>911.000000</td>\n",
              "      <td>911.000000</td>\n",
              "      <td>911.000000</td>\n",
              "      <td>911.000000</td>\n",
              "    </tr>\n",
              "    <tr>\n",
              "      <th>mean</th>\n",
              "      <td>375.405049</td>\n",
              "      <td>11.900110</td>\n",
              "      <td>22.189280</td>\n",
              "      <td>60.761313</td>\n",
              "      <td>3.014270</td>\n",
              "      <td>0.085620</td>\n",
              "      <td>27.015691</td>\n",
              "      <td>44.842691</td>\n",
              "    </tr>\n",
              "    <tr>\n",
              "      <th>std</th>\n",
              "      <td>502.812717</td>\n",
              "      <td>4.285153</td>\n",
              "      <td>8.922389</td>\n",
              "      <td>17.330821</td>\n",
              "      <td>2.009542</td>\n",
              "      <td>0.279956</td>\n",
              "      <td>12.774223</td>\n",
              "      <td>27.934366</td>\n",
              "    </tr>\n",
              "    <tr>\n",
              "      <th>min</th>\n",
              "      <td>100.000000</td>\n",
              "      <td>5.000000</td>\n",
              "      <td>-10.372207</td>\n",
              "      <td>30.121111</td>\n",
              "      <td>0.000000</td>\n",
              "      <td>0.000000</td>\n",
              "      <td>5.008394</td>\n",
              "      <td>10.819048</td>\n",
              "    </tr>\n",
              "    <tr>\n",
              "      <th>25%</th>\n",
              "      <td>211.000000</td>\n",
              "      <td>8.000000</td>\n",
              "      <td>15.684585</td>\n",
              "      <td>46.017835</td>\n",
              "      <td>1.000000</td>\n",
              "      <td>0.000000</td>\n",
              "      <td>16.091383</td>\n",
              "      <td>32.887912</td>\n",
              "    </tr>\n",
              "    <tr>\n",
              "      <th>50%</th>\n",
              "      <td>306.000000</td>\n",
              "      <td>12.000000</td>\n",
              "      <td>22.115040</td>\n",
              "      <td>61.633960</td>\n",
              "      <td>3.000000</td>\n",
              "      <td>0.000000</td>\n",
              "      <td>26.854109</td>\n",
              "      <td>41.146930</td>\n",
              "    </tr>\n",
              "    <tr>\n",
              "      <th>75%</th>\n",
              "      <td>407.000000</td>\n",
              "      <td>15.000000</td>\n",
              "      <td>28.804294</td>\n",
              "      <td>75.787910</td>\n",
              "      <td>5.000000</td>\n",
              "      <td>0.000000</td>\n",
              "      <td>38.149878</td>\n",
              "      <td>50.046681</td>\n",
              "    </tr>\n",
              "    <tr>\n",
              "      <th>max</th>\n",
              "      <td>4730.000000</td>\n",
              "      <td>19.000000</td>\n",
              "      <td>60.000000</td>\n",
              "      <td>89.982828</td>\n",
              "      <td>6.000000</td>\n",
              "      <td>1.000000</td>\n",
              "      <td>49.803703</td>\n",
              "      <td>274.328783</td>\n",
              "    </tr>\n",
              "  </tbody>\n",
              "</table>\n",
              "</div>\n",
              "    <div class=\"colab-df-buttons\">\n",
              "\n",
              "  <div class=\"colab-df-container\">\n",
              "    <button class=\"colab-df-convert\" onclick=\"convertToInteractive('df-0dc1f5ae-9ac4-4bdf-8299-bce4c2071b20')\"\n",
              "            title=\"Convert this dataframe to an interactive table.\"\n",
              "            style=\"display:none;\">\n",
              "\n",
              "  <svg xmlns=\"http://www.w3.org/2000/svg\" height=\"24px\" viewBox=\"0 -960 960 960\">\n",
              "    <path d=\"M120-120v-720h720v720H120Zm60-500h600v-160H180v160Zm220 220h160v-160H400v160Zm0 220h160v-160H400v160ZM180-400h160v-160H180v160Zm440 0h160v-160H620v160ZM180-180h160v-160H180v160Zm440 0h160v-160H620v160Z\"/>\n",
              "  </svg>\n",
              "    </button>\n",
              "\n",
              "  <style>\n",
              "    .colab-df-container {\n",
              "      display:flex;\n",
              "      gap: 12px;\n",
              "    }\n",
              "\n",
              "    .colab-df-convert {\n",
              "      background-color: #E8F0FE;\n",
              "      border: none;\n",
              "      border-radius: 50%;\n",
              "      cursor: pointer;\n",
              "      display: none;\n",
              "      fill: #1967D2;\n",
              "      height: 32px;\n",
              "      padding: 0 0 0 0;\n",
              "      width: 32px;\n",
              "    }\n",
              "\n",
              "    .colab-df-convert:hover {\n",
              "      background-color: #E2EBFA;\n",
              "      box-shadow: 0px 1px 2px rgba(60, 64, 67, 0.3), 0px 1px 3px 1px rgba(60, 64, 67, 0.15);\n",
              "      fill: #174EA6;\n",
              "    }\n",
              "\n",
              "    .colab-df-buttons div {\n",
              "      margin-bottom: 4px;\n",
              "    }\n",
              "\n",
              "    [theme=dark] .colab-df-convert {\n",
              "      background-color: #3B4455;\n",
              "      fill: #D2E3FC;\n",
              "    }\n",
              "\n",
              "    [theme=dark] .colab-df-convert:hover {\n",
              "      background-color: #434B5C;\n",
              "      box-shadow: 0px 1px 3px 1px rgba(0, 0, 0, 0.15);\n",
              "      filter: drop-shadow(0px 1px 2px rgba(0, 0, 0, 0.3));\n",
              "      fill: #FFFFFF;\n",
              "    }\n",
              "  </style>\n",
              "\n",
              "    <script>\n",
              "      const buttonEl =\n",
              "        document.querySelector('#df-0dc1f5ae-9ac4-4bdf-8299-bce4c2071b20 button.colab-df-convert');\n",
              "      buttonEl.style.display =\n",
              "        google.colab.kernel.accessAllowed ? 'block' : 'none';\n",
              "\n",
              "      async function convertToInteractive(key) {\n",
              "        const element = document.querySelector('#df-0dc1f5ae-9ac4-4bdf-8299-bce4c2071b20');\n",
              "        const dataTable =\n",
              "          await google.colab.kernel.invokeFunction('convertToInteractive',\n",
              "                                                    [key], {});\n",
              "        if (!dataTable) return;\n",
              "\n",
              "        const docLinkHtml = 'Like what you see? Visit the ' +\n",
              "          '<a target=\"_blank\" href=https://colab.research.google.com/notebooks/data_table.ipynb>data table notebook</a>'\n",
              "          + ' to learn more about interactive tables.';\n",
              "        element.innerHTML = '';\n",
              "        dataTable['output_type'] = 'display_data';\n",
              "        await google.colab.output.renderOutput(dataTable, element);\n",
              "        const docLink = document.createElement('div');\n",
              "        docLink.innerHTML = docLinkHtml;\n",
              "        element.appendChild(docLink);\n",
              "      }\n",
              "    </script>\n",
              "  </div>\n",
              "\n",
              "\n",
              "    <div id=\"df-278bd811-d9eb-4ad2-afec-51b562f84649\">\n",
              "      <button class=\"colab-df-quickchart\" onclick=\"quickchart('df-278bd811-d9eb-4ad2-afec-51b562f84649')\"\n",
              "                title=\"Suggest charts\"\n",
              "                style=\"display:none;\">\n",
              "\n",
              "<svg xmlns=\"http://www.w3.org/2000/svg\" height=\"24px\"viewBox=\"0 0 24 24\"\n",
              "     width=\"24px\">\n",
              "    <g>\n",
              "        <path d=\"M19 3H5c-1.1 0-2 .9-2 2v14c0 1.1.9 2 2 2h14c1.1 0 2-.9 2-2V5c0-1.1-.9-2-2-2zM9 17H7v-7h2v7zm4 0h-2V7h2v10zm4 0h-2v-4h2v4z\"/>\n",
              "    </g>\n",
              "</svg>\n",
              "      </button>\n",
              "\n",
              "<style>\n",
              "  .colab-df-quickchart {\n",
              "      --bg-color: #E8F0FE;\n",
              "      --fill-color: #1967D2;\n",
              "      --hover-bg-color: #E2EBFA;\n",
              "      --hover-fill-color: #174EA6;\n",
              "      --disabled-fill-color: #AAA;\n",
              "      --disabled-bg-color: #DDD;\n",
              "  }\n",
              "\n",
              "  [theme=dark] .colab-df-quickchart {\n",
              "      --bg-color: #3B4455;\n",
              "      --fill-color: #D2E3FC;\n",
              "      --hover-bg-color: #434B5C;\n",
              "      --hover-fill-color: #FFFFFF;\n",
              "      --disabled-bg-color: #3B4455;\n",
              "      --disabled-fill-color: #666;\n",
              "  }\n",
              "\n",
              "  .colab-df-quickchart {\n",
              "    background-color: var(--bg-color);\n",
              "    border: none;\n",
              "    border-radius: 50%;\n",
              "    cursor: pointer;\n",
              "    display: none;\n",
              "    fill: var(--fill-color);\n",
              "    height: 32px;\n",
              "    padding: 0;\n",
              "    width: 32px;\n",
              "  }\n",
              "\n",
              "  .colab-df-quickchart:hover {\n",
              "    background-color: var(--hover-bg-color);\n",
              "    box-shadow: 0 1px 2px rgba(60, 64, 67, 0.3), 0 1px 3px 1px rgba(60, 64, 67, 0.15);\n",
              "    fill: var(--button-hover-fill-color);\n",
              "  }\n",
              "\n",
              "  .colab-df-quickchart-complete:disabled,\n",
              "  .colab-df-quickchart-complete:disabled:hover {\n",
              "    background-color: var(--disabled-bg-color);\n",
              "    fill: var(--disabled-fill-color);\n",
              "    box-shadow: none;\n",
              "  }\n",
              "\n",
              "  .colab-df-spinner {\n",
              "    border: 2px solid var(--fill-color);\n",
              "    border-color: transparent;\n",
              "    border-bottom-color: var(--fill-color);\n",
              "    animation:\n",
              "      spin 1s steps(1) infinite;\n",
              "  }\n",
              "\n",
              "  @keyframes spin {\n",
              "    0% {\n",
              "      border-color: transparent;\n",
              "      border-bottom-color: var(--fill-color);\n",
              "      border-left-color: var(--fill-color);\n",
              "    }\n",
              "    20% {\n",
              "      border-color: transparent;\n",
              "      border-left-color: var(--fill-color);\n",
              "      border-top-color: var(--fill-color);\n",
              "    }\n",
              "    30% {\n",
              "      border-color: transparent;\n",
              "      border-left-color: var(--fill-color);\n",
              "      border-top-color: var(--fill-color);\n",
              "      border-right-color: var(--fill-color);\n",
              "    }\n",
              "    40% {\n",
              "      border-color: transparent;\n",
              "      border-right-color: var(--fill-color);\n",
              "      border-top-color: var(--fill-color);\n",
              "    }\n",
              "    60% {\n",
              "      border-color: transparent;\n",
              "      border-right-color: var(--fill-color);\n",
              "    }\n",
              "    80% {\n",
              "      border-color: transparent;\n",
              "      border-right-color: var(--fill-color);\n",
              "      border-bottom-color: var(--fill-color);\n",
              "    }\n",
              "    90% {\n",
              "      border-color: transparent;\n",
              "      border-bottom-color: var(--fill-color);\n",
              "    }\n",
              "  }\n",
              "</style>\n",
              "\n",
              "      <script>\n",
              "        async function quickchart(key) {\n",
              "          const quickchartButtonEl =\n",
              "            document.querySelector('#' + key + ' button');\n",
              "          quickchartButtonEl.disabled = true;  // To prevent multiple clicks.\n",
              "          quickchartButtonEl.classList.add('colab-df-spinner');\n",
              "          try {\n",
              "            const charts = await google.colab.kernel.invokeFunction(\n",
              "                'suggestCharts', [key], {});\n",
              "          } catch (error) {\n",
              "            console.error('Error during call to suggestCharts:', error);\n",
              "          }\n",
              "          quickchartButtonEl.classList.remove('colab-df-spinner');\n",
              "          quickchartButtonEl.classList.add('colab-df-quickchart-complete');\n",
              "        }\n",
              "        (() => {\n",
              "          let quickchartButtonEl =\n",
              "            document.querySelector('#df-278bd811-d9eb-4ad2-afec-51b562f84649 button');\n",
              "          quickchartButtonEl.style.display =\n",
              "            google.colab.kernel.accessAllowed ? 'block' : 'none';\n",
              "        })();\n",
              "      </script>\n",
              "    </div>\n",
              "\n",
              "    </div>\n",
              "  </div>\n"
            ],
            "application/vnd.google.colaboratory.intrinsic+json": {
              "type": "dataframe",
              "summary": "{\n  \"name\": \"df\",\n  \"rows\": 8,\n  \"fields\": [\n    {\n      \"column\": \"meals_served\",\n      \"properties\": {\n        \"dtype\": \"number\",\n        \"std\": 1549.0946570660876,\n        \"min\": 100.0,\n        \"max\": 4730.0,\n        \"num_unique_values\": 8,\n        \"samples\": [\n          375.4050493962678,\n          306.0,\n          911.0\n        ],\n        \"semantic_type\": \"\",\n        \"description\": \"\"\n      }\n    },\n    {\n      \"column\": \"kitchen_staff\",\n      \"properties\": {\n        \"dtype\": \"number\",\n        \"std\": 318.3281782608858,\n        \"min\": 4.285153258574998,\n        \"max\": 911.0,\n        \"num_unique_values\": 8,\n        \"samples\": [\n          11.900109769484084,\n          12.0,\n          911.0\n        ],\n        \"semantic_type\": \"\",\n        \"description\": \"\"\n      }\n    },\n    {\n      \"column\": \"temperature_C\",\n      \"properties\": {\n        \"dtype\": \"number\",\n        \"std\": 315.2672302126517,\n        \"min\": -10.372206511742178,\n        \"max\": 911.0,\n        \"num_unique_values\": 8,\n        \"samples\": [\n          22.189280331665273,\n          22.115039675471618,\n          911.0\n        ],\n        \"semantic_type\": \"\",\n        \"description\": \"\"\n      }\n    },\n    {\n      \"column\": \"humidity_percent\",\n      \"properties\": {\n        \"dtype\": \"number\",\n        \"std\": 303.71844853150316,\n        \"min\": 17.33082119443006,\n        \"max\": 911.0,\n        \"num_unique_values\": 8,\n        \"samples\": [\n          60.761313215395525,\n          61.633959645234754,\n          911.0\n        ],\n        \"semantic_type\": \"\",\n        \"description\": \"\"\n      }\n    },\n    {\n      \"column\": \"day_of_week\",\n      \"properties\": {\n        \"dtype\": \"number\",\n        \"std\": 321.0817556856484,\n        \"min\": 0.0,\n        \"max\": 911.0,\n        \"num_unique_values\": 8,\n        \"samples\": [\n          3.0142700329308454,\n          3.0,\n          911.0\n        ],\n        \"semantic_type\": \"\",\n        \"description\": \"\"\n      }\n    },\n    {\n      \"column\": \"special_event\",\n      \"properties\": {\n        \"dtype\": \"number\",\n        \"std\": 322.0183485471397,\n        \"min\": 0.0,\n        \"max\": 911.0,\n        \"num_unique_values\": 5,\n        \"samples\": [\n          0.08562019758507135,\n          1.0,\n          0.279956088763159\n        ],\n        \"semantic_type\": \"\",\n        \"description\": \"\"\n      }\n    },\n    {\n      \"column\": \"past_waste_kg\",\n      \"properties\": {\n        \"dtype\": \"number\",\n        \"std\": 313.53767391727564,\n        \"min\": 5.0083937676798405,\n        \"max\": 911.0,\n        \"num_unique_values\": 8,\n        \"samples\": [\n          27.015690516243577,\n          26.854108940042472,\n          911.0\n        ],\n        \"semantic_type\": \"\",\n        \"description\": \"\"\n      }\n    },\n    {\n      \"column\": \"food_waste_kg\",\n      \"properties\": {\n        \"dtype\": \"number\",\n        \"std\": 309.5634082319102,\n        \"min\": 10.819047907328834,\n        \"max\": 911.0,\n        \"num_unique_values\": 8,\n        \"samples\": [\n          44.842690535696,\n          41.14693013822528,\n          911.0\n        ],\n        \"semantic_type\": \"\",\n        \"description\": \"\"\n      }\n    }\n  ]\n}"
            }
          },
          "metadata": {},
          "execution_count": 414
        }
      ]
    },
    {
      "cell_type": "code",
      "source": [
        "print(df.nunique())\n",
        "print('------------------')\n",
        "print(df.duplicated().sum())"
      ],
      "metadata": {
        "colab": {
          "base_uri": "https://localhost:8080/"
        },
        "id": "RymTu0DWbC4E",
        "outputId": "289d2416-0aaf-40f6-a7e4-7b3bdd0a7873"
      },
      "execution_count": 415,
      "outputs": [
        {
          "output_type": "stream",
          "name": "stdout",
          "text": [
            "meals_served        373\n",
            "kitchen_staff        15\n",
            "temperature_C       892\n",
            "humidity_percent    867\n",
            "day_of_week           7\n",
            "special_event         2\n",
            "past_waste_kg       867\n",
            "staff_experience      4\n",
            "waste_category        5\n",
            "food_waste_kg       867\n",
            "dtype: int64\n",
            "------------------\n",
            "0\n"
          ]
        }
      ]
    },
    {
      "cell_type": "code",
      "source": [
        "print(df['staff_experience'].unique())\n",
        "print(df['day_of_week'].unique())\n",
        "print(df['special_event'].unique())\n",
        "print(df['waste_category'].unique())"
      ],
      "metadata": {
        "colab": {
          "base_uri": "https://localhost:8080/"
        },
        "id": "scyF8DkAlkLD",
        "outputId": "e8b14258-24af-4109-9a53-ab19b1babca0"
      },
      "execution_count": 416,
      "outputs": [
        {
          "output_type": "stream",
          "name": "stdout",
          "text": [
            "['intermediate' nan 'Beginner' 'Intermediate' 'EXPERT']\n",
            "[0 1 6 3 5 4 2]\n",
            "[0 1]\n",
            "['dairy' 'MeAt' 'MEAT' 'Vegetables' 'GRAINS']\n"
          ]
        }
      ]
    },
    {
      "cell_type": "code",
      "source": [
        "str_cols_to_fix = ['waste_category', 'staff_experience']\n",
        "\n",
        "for col in str_cols_to_fix:\n",
        "  df[col] = df[col].str.strip().str.lower()"
      ],
      "metadata": {
        "id": "ee1v3jLPmDab"
      },
      "execution_count": 417,
      "outputs": []
    },
    {
      "cell_type": "markdown",
      "source": [
        "# data visualization & dealing with outliers\n"
      ],
      "metadata": {
        "id": "GWvWTiFtrtDb"
      }
    },
    {
      "cell_type": "code",
      "source": [
        "plt.hist(df['humidity_percent'], edgecolor='k')\n",
        "plt.xlabel('humidity percent')\n",
        "plt.show()"
      ],
      "metadata": {
        "colab": {
          "base_uri": "https://localhost:8080/",
          "height": 449
        },
        "id": "c1X79MguvTWt",
        "outputId": "f029bd58-b148-46ef-98a3-fd0811c78701"
      },
      "execution_count": 418,
      "outputs": [
        {
          "output_type": "display_data",
          "data": {
            "text/plain": [
              "<Figure size 640x480 with 1 Axes>"
            ],
            "image/png": "[encoded data removed]"
          },
          "metadata": {}
        }
      ]
    },
    {
      "cell_type": "code",
      "source": [
        "plt.scatter(df['past_waste_kg'], df['food_waste_kg'])\n",
        "\n",
        "plt.xlabel('past waste kg')\n",
        "plt.ylabel('food waste kg')\n",
        "plt.legend()\n",
        "plt.show()"
      ],
      "metadata": {
        "colab": {
          "base_uri": "https://localhost:8080/",
          "height": 484
        },
        "id": "fssFnk12wZ31",
        "outputId": "0256818f-7081-4379-e43f-1b9de81ad4d4"
      },
      "execution_count": 419,
      "outputs": [
        {
          "output_type": "stream",
          "name": "stderr",
          "text": [
            "/tmp/ipython-input-2360243030.py:5: UserWarning: No artists with labels found to put in legend.  Note that artists whose label start with an underscore are ignored when legend() is called with no argument.\n",
            "  plt.legend()\n"
          ]
        },
        {
          "output_type": "display_data",
          "data": {
            "text/plain": [
              "<Figure size 640x480 with 1 Axes>"
            ],
            "image/png": "[encoded data removed]"
          },
          "metadata": {}
        }
      ]
    },
    {
      "cell_type": "code",
      "source": [
        "plt.hist(df['past_waste_kg'], edgecolor='k')\n",
        "plt.xlabel('past waste kg')\n",
        "plt.show()"
      ],
      "metadata": {
        "colab": {
          "base_uri": "https://localhost:8080/",
          "height": 449
        },
        "id": "2XUc8-hgy-6y",
        "outputId": "47ca173d-2f22-47c3-9abe-41ac432b3e9a"
      },
      "execution_count": 420,
      "outputs": [
        {
          "output_type": "display_data",
          "data": {
            "text/plain": [
              "<Figure size 640x480 with 1 Axes>"
            ],
            "image/png": "[encoded data removed]"
          },
          "metadata": {}
        }
      ]
    },
    {
      "cell_type": "code",
      "source": [
        "plt.scatter(df['temperature_C'], df['food_waste_kg'])\n",
        "\n",
        "plt.xlabel('past waste kg')\n",
        "plt.ylabel('food waste kg')\n",
        "plt.legend()\n",
        "plt.show()"
      ],
      "metadata": {
        "colab": {
          "base_uri": "https://localhost:8080/",
          "height": 484
        },
        "id": "QdGbo60axrDM",
        "outputId": "3a3652a1-c71d-41fd-93ec-19adc1ca4e1b"
      },
      "execution_count": 421,
      "outputs": [
        {
          "output_type": "stream",
          "name": "stderr",
          "text": [
            "/tmp/ipython-input-368308676.py:5: UserWarning: No artists with labels found to put in legend.  Note that artists whose label start with an underscore are ignored when legend() is called with no argument.\n",
            "  plt.legend()\n"
          ]
        },
        {
          "output_type": "display_data",
          "data": {
            "text/plain": [
              "<Figure size 640x480 with 1 Axes>"
            ],
            "image/png": "[encoded data removed]"
          },
          "metadata": {}
        }
      ]
    },
    {
      "cell_type": "code",
      "source": [
        "plt.hist(df['temperature_C'], edgecolor='k')\n",
        "plt.show()"
      ],
      "metadata": {
        "colab": {
          "base_uri": "https://localhost:8080/",
          "height": 430
        },
        "id": "ljciCxF-rv6a",
        "outputId": "63d06146-d62e-489f-f106-b85757bf12b5"
      },
      "execution_count": 422,
      "outputs": [
        {
          "output_type": "display_data",
          "data": {
            "text/plain": [
              "<Figure size 640x480 with 1 Axes>"
            ],
            "image/png": "[encoded data removed]"
          },
          "metadata": {}
        }
      ]
    },
    {
      "cell_type": "markdown",
      "source": [
        "**using IQR to detect outliers**"
      ],
      "metadata": {
        "id": "EABddhM9t0Ju"
      }
    },
    {
      "cell_type": "code",
      "source": [
        "Q1 = df.temperature_C.quantile(0.25)\n",
        "Q3 = df.temperature_C.quantile(0.75)\n",
        "\n",
        "IQR = Q3-Q1\n",
        "IQR\n",
        "\n",
        "lower_limit = Q1 - 1.5*IQR\n",
        "upper_limit = Q3 + 1.5*IQR"
      ],
      "metadata": {
        "id": "owiidBNbd6qe"
      },
      "execution_count": 423,
      "outputs": []
    },
    {
      "cell_type": "code",
      "source": [
        "df['temperature_C'] = df['temperature_C'].apply(lambda x: np.nan if x<lower_limit or x>upper_limit else x)\n"
      ],
      "metadata": {
        "id": "LoXubY1_lLjF"
      },
      "execution_count": 424,
      "outputs": []
    },
    {
      "cell_type": "code",
      "source": [
        "plt.hist(df['temperature_C'], edgecolor='k')\n",
        "plt.show()"
      ],
      "metadata": {
        "colab": {
          "base_uri": "https://localhost:8080/",
          "height": 430
        },
        "id": "s91Pn9z5jgUn",
        "outputId": "1e9d1df6-8fa6-4fa8-e16f-4949cd31b6cf"
      },
      "execution_count": 425,
      "outputs": [
        {
          "output_type": "display_data",
          "data": {
            "text/plain": [
              "<Figure size 640x480 with 1 Axes>"
            ],
            "image/png": "[encoded data removed]"
          },
          "metadata": {}
        }
      ]
    },
    {
      "cell_type": "code",
      "source": [
        "plt.hist(df['meals_served'], edgecolor='k')\n",
        "plt.show()"
      ],
      "metadata": {
        "colab": {
          "base_uri": "https://localhost:8080/",
          "height": 430
        },
        "id": "FM_5SpYiDmis",
        "outputId": "55f79b28-cf91-414f-ff3b-73323c09c6ca"
      },
      "execution_count": 426,
      "outputs": [
        {
          "output_type": "display_data",
          "data": {
            "text/plain": [
              "<Figure size 640x480 with 1 Axes>"
            ],
            "image/png": "[encoded data removed]"
          },
          "metadata": {}
        }
      ]
    },
    {
      "cell_type": "code",
      "source": [
        "Q1 = df.meals_served.quantile(0.25)\n",
        "Q3 = df.meals_served.quantile(0.75)\n",
        "\n",
        "IQR = Q3-Q1\n",
        "IQR\n",
        "\n",
        "lower_limit = Q1 - 1.5*IQR\n",
        "upper_limit = Q3 + 1.5*IQR\n",
        "\n",
        "df = df[(df['meals_served'] > lower_limit) & (df['meals_served'] < upper_limit)]"
      ],
      "metadata": {
        "id": "7SscIUYZgL3e"
      },
      "execution_count": 427,
      "outputs": []
    },
    {
      "cell_type": "code",
      "source": [
        "plt.hist(df['meals_served'], edgecolor='k')\n",
        "plt.show()"
      ],
      "metadata": {
        "colab": {
          "base_uri": "https://localhost:8080/",
          "height": 430
        },
        "id": "8kAppapjmxhS",
        "outputId": "393d83c4-c3af-4fe0-82fe-b85daac13dc1"
      },
      "execution_count": 428,
      "outputs": [
        {
          "output_type": "display_data",
          "data": {
            "text/plain": [
              "<Figure size 640x480 with 1 Axes>"
            ],
            "image/png": "[encoded data removed]"
          },
          "metadata": {}
        }
      ]
    },
    {
      "cell_type": "markdown",
      "source": [
        "# Data Preprocessing"
      ],
      "metadata": {
        "id": "fq1eHQkQrw1Z"
      }
    },
    {
      "cell_type": "code",
      "source": [
        "x = df.iloc[:, :-1]\n",
        "y = df.iloc[:, -1]\n",
        "\n",
        "x_train, x_test, y_train, y_test = train_test_split(x, y, test_size=0.2, random_state=42)"
      ],
      "metadata": {
        "id": "dvgZLc97ZdjH"
      },
      "execution_count": 429,
      "outputs": []
    },
    {
      "cell_type": "code",
      "source": [
        "cat_cols = ['day_of_week', 'special_event', 'waste_category']\n",
        "num_cols = ['meals_served', 'kitchen_staff', 'temperature_C', 'humidity_percent', 'past_waste_kg']\n",
        "ord_cols  = ['staff_experience']"
      ],
      "metadata": {
        "id": "Si9w43SAYtBK"
      },
      "execution_count": 430,
      "outputs": []
    },
    {
      "cell_type": "code",
      "source": [
        "num_pipeline = Pipeline(steps = [\n",
        "    ('impute', SimpleImputer(strategy='mean')),\n",
        "    ('scale', StandardScaler())\n",
        "])"
      ],
      "metadata": {
        "id": "cvIcrDIGI_SC"
      },
      "execution_count": 431,
      "outputs": []
    },
    {
      "cell_type": "code",
      "source": [
        "cat_pipeline = Pipeline(steps = [\n",
        "    ('impute', SimpleImputer(strategy='most_frequent')),\n",
        "    ('one-hot-encoder', OneHotEncoder(handle_unknown='ignore', sparse_output=False))\n",
        "])"
      ],
      "metadata": {
        "id": "c8jxe0luJo53"
      },
      "execution_count": 432,
      "outputs": []
    },
    {
      "cell_type": "code",
      "source": [
        "ordinal_pipeline = Pipeline(steps=[\n",
        "    ('impute_missing', SimpleImputer(strategy='most_frequent')),\n",
        "    ('encode', OrdinalEncoder(\n",
        "        categories= [['beginner', 'intermediate', 'expert']],\n",
        "        handle_unknown='use_encoded_value',\n",
        "        unknown_value=np.nan\n",
        "    )),\n",
        "    ('impute_unknowns', SimpleImputer(strategy='most_frequent'))\n",
        "])"
      ],
      "metadata": {
        "id": "ORChIZ8olMOF"
      },
      "execution_count": 433,
      "outputs": []
    },
    {
      "cell_type": "code",
      "source": [
        "col_transformer = ColumnTransformer(transformers= [\n",
        "    ('num_pipeline', num_pipeline, num_cols),\n",
        "    ('cat_pipeline', cat_pipeline, cat_cols),\n",
        "    ('ordinal_pipeline', ordinal_pipeline, ord_cols)\n",
        "],remainder='drop',n_jobs=-1)"
      ],
      "metadata": {
        "id": "vzZtKvkJKCw3"
      },
      "execution_count": 434,
      "outputs": []
    },
    {
      "cell_type": "markdown",
      "source": [
        "# Modeling"
      ],
      "metadata": {
        "id": "-5IMjbHX3jVa"
      }
    },
    {
      "cell_type": "code",
      "source": [
        "rfr = RandomForestRegressor()\n",
        "lr = LinearRegression()\n",
        "svr = SVR()"
      ],
      "metadata": {
        "id": "KuZfKKt2Kg0S"
      },
      "execution_count": 435,
      "outputs": []
    },
    {
      "cell_type": "code",
      "source": [
        "rfr_pipe = Pipeline([\n",
        "    (\"prep\", col_transformer),\n",
        "    (\"model\", rfr)\n",
        "])\n",
        "\n",
        "lr_pipe = Pipeline([\n",
        "    (\"prep\", col_transformer),\n",
        "    (\"model\", lr)\n",
        "])\n",
        "\n",
        "svr_pipe = Pipeline([\n",
        "    (\"prep\", col_transformer),\n",
        "    (\"model\", svr)\n",
        "])\n",
        "\n",
        "param_grid_rfr = {\n",
        "    \"model__n_estimators\": [100, 500],\n",
        "    \"model__max_depth\": [None, 10, 20, 30]\n",
        "}\n",
        "\n",
        "param_grid_svr = {\n",
        "    \"model__kernel\": [\"linear\", \"rbf\"],\n",
        "    \"model__C\": [0.1, 1, 10, 100],\n",
        "    \"model__epsilon\": [0.01, 0.1, 0.5, 1.0]\n",
        "}"
      ],
      "metadata": {
        "id": "FjKtAkdhWRql"
      },
      "execution_count": 436,
      "outputs": []
    },
    {
      "cell_type": "code",
      "source": [
        "lr_pipe.fit(x_train, y_train)\n",
        "lr_r2 = lr_pipe.score(x_test, y_test)\n",
        "print(\"LinearRegression R²:\", lr_r2)"
      ],
      "metadata": {
        "colab": {
          "base_uri": "https://localhost:8080/"
        },
        "id": "ZuQpj37MXXmR",
        "outputId": "5f3c20f4-0e76-4e18-eb8a-42b5cc99a45a"
      },
      "execution_count": 437,
      "outputs": [
        {
          "output_type": "stream",
          "name": "stdout",
          "text": [
            "LinearRegression R²: 0.779194287777096\n"
          ]
        }
      ]
    },
    {
      "cell_type": "code",
      "source": [
        "svr_cv= GridSearchCV(svr_pipe, param_grid_svr, cv=5, scoring=\"r2\", n_jobs=-1)\n",
        "svr_cv.fit(x_train, y_train)\n",
        "print(\"Best svr R²:\", svr_cv.best_score_)"
      ],
      "metadata": {
        "colab": {
          "base_uri": "https://localhost:8080/"
        },
        "id": "d5ELRY1qd8vO",
        "outputId": "d20f87ed-c459-4e88-80d3-516cdd99af00"
      },
      "execution_count": 438,
      "outputs": [
        {
          "output_type": "stream",
          "name": "stdout",
          "text": [
            "Best svr R²: 0.8117959269614632\n"
          ]
        }
      ]
    },
    {
      "cell_type": "code",
      "source": [
        "rfr_cv= GridSearchCV(rfr_pipe, param_grid_rfr, cv=5, scoring=\"r2\", n_jobs=-1)\n",
        "rfr_cv.fit(x_train, y_train)\n",
        "print(\"Best rfc R²:\", rfr_cv.best_score_)"
      ],
      "metadata": {
        "colab": {
          "base_uri": "https://localhost:8080/"
        },
        "id": "DD1C7SoMd7zB",
        "outputId": "dd56fed4-2e68-4f80-f6f0-df0d8d701f15"
      },
      "execution_count": 439,
      "outputs": [
        {
          "output_type": "stream",
          "name": "stdout",
          "text": [
            "Best rfc R²: 0.7783099018872901\n"
          ]
        }
      ]
    },
    {
      "cell_type": "markdown",
      "source": [
        "support vector regression brings the best results, tuning hyperparameters further"
      ],
      "metadata": {
        "id": "8MzcHCUz4PAX"
      }
    },
    {
      "cell_type": "code",
      "source": [
        "svr_cv_r2 = svr_cv.best_estimator_.score(x_test, y_test)\n",
        "print(\"svr Test R²:\", svr_cv_r2)"
      ],
      "metadata": {
        "colab": {
          "base_uri": "https://localhost:8080/"
        },
        "id": "bzeZgBSWmLoi",
        "outputId": "e2221779-2c64-461f-bded-8b099fb3651a"
      },
      "execution_count": 440,
      "outputs": [
        {
          "output_type": "stream",
          "name": "stdout",
          "text": [
            "svr Test R²: 0.777388706619024\n"
          ]
        }
      ]
    },
    {
      "cell_type": "code",
      "source": [
        "param_grid_svr = {\n",
        "    \"model__kernel\": [\"linear\", \"rbf\", \"poly\", \"sigmoid\"],\n",
        "    \"model__C\": [0.1, 1, 10, 100],\n",
        "    \"model__epsilon\": [0.01, 0.1, 0.5, 1.0],\n",
        "    \"model__gamma\": [\"scale\", \"auto\", 0.01, 0.1],\n",
        "}\n",
        "svr_cv= GridSearchCV(svr_pipe, param_grid_svr, cv=5, scoring=\"r2\", n_jobs=-1)\n",
        "svr_cv.fit(x_train, y_train)\n",
        "print(\"Best svr R²:\", svr_cv.best_score_)\n",
        "\n",
        "svr_cv_r2 = svr_cv.best_estimator_.score(x_test, y_test)\n",
        "print(\"svr Test R²:\", svr_cv_r2)"
      ],
      "metadata": {
        "colab": {
          "base_uri": "https://localhost:8080/"
        },
        "id": "MZjTBGPaq2AI",
        "outputId": "6e3dfe2f-c383-4e20-92df-6aac1d045261"
      },
      "execution_count": 441,
      "outputs": [
        {
          "output_type": "stream",
          "name": "stdout",
          "text": [
            "Best svr R²: 0.8117959269614632\n",
            "svr Test R²: 0.777388706619024\n"
          ]
        }
      ]
    },
    {
      "cell_type": "markdown",
      "source": [
        "(further tuning didnt help)\n",
        "\n",
        "checking MAE and RMSE scores"
      ],
      "metadata": {
        "id": "3XSRXGdWtBc_"
      }
    },
    {
      "cell_type": "code",
      "source": [
        "y_pred_svr = svr_cv.predict(x_test)\n",
        "svr_mae = mean_absolute_error(y_test, y_pred_svr)\n",
        "print(\"SVR Test MAE:\", svr_mae)\n",
        "\n",
        "svr_rmse = np.sqrt(mean_squared_error(y_test, y_pred_svr))\n",
        "print(\"SVR Test RMSE:\", svr_rmse)"
      ],
      "metadata": {
        "colab": {
          "base_uri": "https://localhost:8080/"
        },
        "id": "8mWbqewfhcg7",
        "outputId": "e871bc50-2880-44d6-aedb-3729c7bbb5eb"
      },
      "execution_count": 442,
      "outputs": [
        {
          "output_type": "stream",
          "name": "stdout",
          "text": [
            "SVR Test MAE: 4.219990201339019\n",
            "SVR Test RMSE: 5.14579683226807\n"
          ]
        }
      ]
    }
  ]
}